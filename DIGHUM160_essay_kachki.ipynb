{
 "cells": [
  {
   "cell_type": "markdown",
   "metadata": {},
   "source": [
    "<img src=\"../../Img/backdrop-wh.png\" alt=\"Drawing\" style=\"width: 300px;\"/>\n",
    "\n",
    "<div style=\"display: block; width: 100%; height: 100px;\">\n",
    "\n",
    "<p style=\"float: left;\">\n",
    "    <span style=\"font-weight: bold; font-size: 20px;\">\n",
    "        DIGHUM160 - Critical Digital Humanities \n",
    "        <br />\n",
    "        <br />\n",
    "        Final Project\n",
    "    </span>\n",
    "</p>"
   ]
  },
  {
   "cell_type": "markdown",
   "metadata": {},
   "source": [
    "\n",
    "**Project title:** Digital Dialogues: Analyzing Relationship Discourse and Gender Dynamics on r/relationship_advice\n",
    "\n",
    "**Student name:** Kenza Achki\n"
   ]
  },
  {
   "cell_type": "code",
   "execution_count": 1,
   "metadata": {},
   "outputs": [
    {
     "ename": "",
     "evalue": "",
     "output_type": "error",
     "traceback": [
      "\u001b[1;31mRunning cells with 'Python 3.13.0' requires the ipykernel package.\n",
      "\u001b[1;31mRun the following command to install 'ipykernel' into the Python environment. \n",
      "\u001b[1;31mCommand: '/opt/homebrew/bin/python3 -m pip install ipykernel -U --user --force-reinstall'"
     ]
    }
   ],
   "source": [
    "# set up your environment\n",
    "\n",
    "import json\n",
    "import os\n",
    "import pandas as pd\n",
    "import numpy as np\n",
    "\n",
    "import pickle\n",
    "from gensim.models import Word2Vec\n",
    "import multiprocessing\n",
    "\n",
    "import matplotlib.pyplot as plt\n",
    "from sklearn.manifold import TSNE# Package imports\n",
    "import os\n",
    "import pandas as pd\n",
    "import numpy as np\n",
    "\n",
    "# < import other packages here >\n"
   ]
  },
  {
   "cell_type": "markdown",
   "metadata": {},
   "source": [
    "## Introduction\n",
    "\n",
    "\n",
    "In the ocean of contemporary life, relationships are a complex current, with societal expectations, technological advancements, and personal struggles. It appears that amidst the noise, the digital realm has emerged as a confessional for our most intimate challenges. One of these platforms is r/relationship_advice. \n",
    "\n",
    "\n",
    "r/relationship_advice is a subreddit in which one asks for and shares personal experiences relating to their relationships. The board has visibility beyond the Reddit site alone; many of its posts are reshared across other social media sites like TikTok, Instagram, and YouTube. Subjects range from cheating and boundary problems to family feuds and office romances.\n",
    "\n",
    "\n",
    "But why This Community? I have chosen to work with the r/relationship_advice  community because of its large number of users and the richness of content. It is more than just a place to seek advice; it's a microcosm of society itself. It's also fertile ground for language use patterns, emotional expressions, and conventions of society that are available from the set of elaborate responses any user provides. With its 13 million members, this subreddit is particular to capture attention and incite engagement; hence, it is a very good case study for the understanding of human interaction and advice-seeking behavior in digital spaces.\n",
    "\n",
    "I'm drawn to r/relationship_advice because of how people explain their relational problems and seek help online. This subreddit holds a representative role in contemporary social dynamics, and in this regard, there is fertile ground for insight into the complexities of human relationships. This community can uncover much broader themes concerning conflict, their resolution, and even societal norms at work in personal interactions. This research will examine how the discourses and topics of the r/relationship_advice subreddit serve as a microcosm for larger concerns in society, such as interpersonal conflict, strategies for resolution, and gender roles. We will also try to uncover some deeper social norms and biases through an analysis of the language and topics that come to dominate in this digital community, thus providing a nuanced explanation of how these individuals navigate and interpret relationships in this central place of the digital age.\n",
    "\n",
    "\n",
    "\n",
    "\n",
    "\n",
    "\n",
    "\n",
    "\n",
    "\n",
    "\n",
    "\n"
   ]
  },
  {
   "cell_type": "markdown",
   "metadata": {},
   "source": [
    "<img src=\"img/relationship_adviceintro.png\" width=\"300\" />\n",
    "Figure 1. The description of the subreddit\n",
    "r/relationship_advice as of August 11, 2024.\n",
    "\n",
    "\n",
    "\n",
    "\n",
    "\n"
   ]
  },
  {
   "cell_type": "code",
   "execution_count": null,
   "metadata": {},
   "outputs": [
    {
     "ename": "",
     "evalue": "",
     "output_type": "error",
     "traceback": [
      "\u001b[1;31mRunning cells with 'Python 3.13.0' requires the ipykernel package.\n",
      "\u001b[1;31mRun the following command to install 'ipykernel' into the Python environment. \n",
      "\u001b[1;31mCommand: '/opt/homebrew/bin/python3 -m pip install ipykernel -U --user --force-reinstall'"
     ]
    }
   ],
   "source": [
    "df = pd.read_csv('data/RA_pos_lemmas_topics.csv')  #posts \n",
    "cm = pd.read_csv('data/cm_proccessed.csv')     #comments "
   ]
  },
  {
   "cell_type": "code",
   "execution_count": 183,
   "metadata": {},
   "outputs": [
    {
     "data": {
      "text/html": [
       "<div>\n",
       "<style scoped>\n",
       "    .dataframe tbody tr th:only-of-type {\n",
       "        vertical-align: middle;\n",
       "    }\n",
       "\n",
       "    .dataframe tbody tr th {\n",
       "        vertical-align: top;\n",
       "    }\n",
       "\n",
       "    .dataframe thead th {\n",
       "        text-align: right;\n",
       "    }\n",
       "</style>\n",
       "<table border=\"1\" class=\"dataframe\">\n",
       "  <thead>\n",
       "    <tr style=\"text-align: right;\">\n",
       "      <th></th>\n",
       "      <th>Unnamed: 0</th>\n",
       "      <th>idint</th>\n",
       "      <th>idstr</th>\n",
       "      <th>created</th>\n",
       "      <th>self</th>\n",
       "      <th>nsfw</th>\n",
       "      <th>author</th>\n",
       "      <th>title</th>\n",
       "      <th>url</th>\n",
       "      <th>selftext</th>\n",
       "      <th>...</th>\n",
       "      <th>textlen</th>\n",
       "      <th>num_comments</th>\n",
       "      <th>flair_text</th>\n",
       "      <th>flair_css_class</th>\n",
       "      <th>augmented_at</th>\n",
       "      <th>augmented_count</th>\n",
       "      <th>pp_text</th>\n",
       "      <th>pos_lemmas</th>\n",
       "      <th>dom_topic</th>\n",
       "      <th>dom_topic_num</th>\n",
       "    </tr>\n",
       "  </thead>\n",
       "  <tbody>\n",
       "    <tr>\n",
       "      <th>0</th>\n",
       "      <td>169475</td>\n",
       "      <td>313304108</td>\n",
       "      <td>t3_56j6zw</td>\n",
       "      <td>1475963224</td>\n",
       "      <td>1</td>\n",
       "      <td>0</td>\n",
       "      <td>[deleted]</td>\n",
       "      <td>I (33m) overheard my girlfriend (28f) making f...</td>\n",
       "      <td>NaN</td>\n",
       "      <td>I originally posted this elsewhere, but it was...</td>\n",
       "      <td>...</td>\n",
       "      <td>6555</td>\n",
       "      <td>161</td>\n",
       "      <td>NaN</td>\n",
       "      <td>NaN</td>\n",
       "      <td>NaN</td>\n",
       "      <td>NaN</td>\n",
       "      <td>originally posted deleted reason reposting lin...</td>\n",
       "      <td>reason link post girlfriend year little veteri...</td>\n",
       "      <td>Work and Daily Life</td>\n",
       "      <td>4.0</td>\n",
       "    </tr>\n",
       "    <tr>\n",
       "      <th>1</th>\n",
       "      <td>169479</td>\n",
       "      <td>313308523</td>\n",
       "      <td>t3_56jaej</td>\n",
       "      <td>1475964489</td>\n",
       "      <td>1</td>\n",
       "      <td>0</td>\n",
       "      <td>[deleted]</td>\n",
       "      <td>UPDATE: I (33m) overheard my girlfriend (28f) ...</td>\n",
       "      <td>NaN</td>\n",
       "      <td>Link to original post: \\n\\nhttps://www.reddit....</td>\n",
       "      <td>...</td>\n",
       "      <td>13385</td>\n",
       "      <td>310</td>\n",
       "      <td>NaN</td>\n",
       "      <td>NaN</td>\n",
       "      <td>NaN</td>\n",
       "      <td>NaN</td>\n",
       "      <td>link_original post https://www.reddit.com/r/re...</td>\n",
       "      <td>link_original post https://www.reddit.com/r/re...</td>\n",
       "      <td>Work and Daily Life</td>\n",
       "      <td>4.0</td>\n",
       "    </tr>\n",
       "    <tr>\n",
       "      <th>2</th>\n",
       "      <td>214104</td>\n",
       "      <td>392916667</td>\n",
       "      <td>t3_6hxkfv</td>\n",
       "      <td>1497755595</td>\n",
       "      <td>1</td>\n",
       "      <td>0</td>\n",
       "      <td>maybeyesno9</td>\n",
       "      <td>Update: I [28f] literally just found email aft...</td>\n",
       "      <td>NaN</td>\n",
       "      <td>Link to original post: https://www.reddit.com/...</td>\n",
       "      <td>...</td>\n",
       "      <td>3259</td>\n",
       "      <td>62</td>\n",
       "      <td>NaN</td>\n",
       "      <td>NaN</td>\n",
       "      <td>NaN</td>\n",
       "      <td>NaN</td>\n",
       "      <td>link_original post https://www.reddit.com/r/re...</td>\n",
       "      <td>link_original post relationship update posting...</td>\n",
       "      <td>Life and Relationships</td>\n",
       "      <td>0.0</td>\n",
       "    </tr>\n",
       "  </tbody>\n",
       "</table>\n",
       "<p>3 rows × 23 columns</p>\n",
       "</div>"
      ],
      "text/plain": [
       "   Unnamed: 0      idint      idstr     created  self  nsfw       author  \\\n",
       "0      169475  313304108  t3_56j6zw  1475963224     1     0    [deleted]   \n",
       "1      169479  313308523  t3_56jaej  1475964489     1     0    [deleted]   \n",
       "2      214104  392916667  t3_6hxkfv  1497755595     1     0  maybeyesno9   \n",
       "\n",
       "                                               title  url  \\\n",
       "0  I (33m) overheard my girlfriend (28f) making f...  NaN   \n",
       "1  UPDATE: I (33m) overheard my girlfriend (28f) ...  NaN   \n",
       "2  Update: I [28f] literally just found email aft...  NaN   \n",
       "\n",
       "                                            selftext  ...  textlen  \\\n",
       "0  I originally posted this elsewhere, but it was...  ...     6555   \n",
       "1  Link to original post: \\n\\nhttps://www.reddit....  ...    13385   \n",
       "2  Link to original post: https://www.reddit.com/...  ...     3259   \n",
       "\n",
       "  num_comments flair_text  flair_css_class  augmented_at augmented_count  \\\n",
       "0          161        NaN              NaN           NaN             NaN   \n",
       "1          310        NaN              NaN           NaN             NaN   \n",
       "2           62        NaN              NaN           NaN             NaN   \n",
       "\n",
       "                                             pp_text  \\\n",
       "0  originally posted deleted reason reposting lin...   \n",
       "1  link_original post https://www.reddit.com/r/re...   \n",
       "2  link_original post https://www.reddit.com/r/re...   \n",
       "\n",
       "                                          pos_lemmas               dom_topic  \\\n",
       "0  reason link post girlfriend year little veteri...     Work and Daily Life   \n",
       "1  link_original post https://www.reddit.com/r/re...     Work and Daily Life   \n",
       "2  link_original post relationship update posting...  Life and Relationships   \n",
       "\n",
       "  dom_topic_num  \n",
       "0           4.0  \n",
       "1           4.0  \n",
       "2           0.0  \n",
       "\n",
       "[3 rows x 23 columns]"
      ]
     },
     "execution_count": 183,
     "metadata": {},
     "output_type": "execute_result"
    }
   ],
   "source": [
    "df.head(3)    #Here is what our \"posts\" Data frame looks like"
   ]
  },
  {
   "cell_type": "markdown",
   "metadata": {},
   "source": [
    "\n",
    "This Dataframe has a dominant topic column that was generating using the optimal LDA model, to understand each topic better, here are their respective key topic  words:   \n",
    "\n",
    "    Sex and Intimacy : sex, night, week, guy, good, talk, work, love, lot, boyfriend          \n",
    "    Life and Relationships: life, love, people, way, good, lot, sex, person, problem, issue           \n",
    "    Dating and Social Interactions : guy, girl, people, phone, boyfriend, date, message, picture, woman, good   \n",
    "    Work and Daily Life: work, job, money, home, week, hour, house, car, place, good   \n",
    "    Family Dynamics  : family, parent, mom, sister, mother, dad, child, life, brother, daughter    \n",
    "    Marriage and Partnership: wife, marriage, kid, husband, married, wedding, love, good, life, child     \n",
    "\n",
    "\n",
    "\n",
    "To understand the core issues that this community  grapples with in their relationships. Let's study the frequency of these topics within r/relationship_advice. \n"
   ]
  },
  {
   "cell_type": "code",
   "execution_count": 13,
   "metadata": {},
   "outputs": [
    {
     "data": {
      "image/png": "[encoded data removed]",
      "text/plain": [
       "<Figure size 800x400 with 1 Axes>"
      ]
     },
     "metadata": {},
     "output_type": "display_data"
    }
   ],
   "source": [
    "topic_counts = df['dom_topic'].value_counts()\n",
    "\n",
    "\n",
    "plt.figure(figsize=(8, 4))  \n",
    "plt.bar(topic_counts.index, topic_counts.values)  # Creating the  bars\n",
    "plt.xlabel('Dominant Topic')  # x-axis Label\n",
    "plt.ylabel('Number of Posts')  # y-axis Label\n",
    "plt.title('Distribution of Posts by Dominant Topic')  # Add a title\n",
    "plt.xticks(rotation=15)  # Rotating x-axis labels for better readability (optional)\n",
    "plt.tight_layout()  # Adjusting spacing to prevent overlapping elements\n",
    "plt.show()"
   ]
  },
  {
   "cell_type": "code",
   "execution_count": 15,
   "metadata": {},
   "outputs": [
    {
     "data": {
      "text/plain": [
       "dom_topic\n",
       "Sex and Intimacy                  3183\n",
       "Life and Relationships            2076\n",
       "Dating and Social Interactions    1804\n",
       "Work and Daily Life               1394\n",
       "Family Dynamics                    822\n",
       "Marriage and Partnership           717\n",
       "Name: count, dtype: int64"
      ]
     },
     "execution_count": 15,
     "metadata": {},
     "output_type": "execute_result"
    }
   ],
   "source": [
    "topic_counts"
   ]
  },
  {
   "cell_type": "markdown",
   "metadata": {},
   "source": [
    "It’s important that we keep in my that this is for all posts, regardless of flare. Investigation into the topic distribution for posts labelled “not safe for work” (NSFW) could shed more light on other aspects of intimacy and relationship concerns that users may not feel comfortable discussing openly. Through contrasting these two topic distributions, we’ll see the full overview of the range of issues people in this subreddit  are facing.\n",
    " "
   ]
  },
  {
   "cell_type": "code",
   "execution_count": 22,
   "metadata": {},
   "outputs": [
    {
     "data": {
      "image/png": "[encoded data removed]",
      "text/plain": [
       "<Figure size 800x400 with 1 Axes>"
      ]
     },
     "metadata": {},
     "output_type": "display_data"
    }
   ],
   "source": [
    "nsfw_posts = df[df['nsfw'] == 1]\n",
    "nsfw_topic_counts = nsfw_posts['dom_topic'].value_counts()\n",
    "\n",
    "# Create a bar chart\n",
    "plt.figure(figsize=(8, 4))  \n",
    "plt.bar(nsfw_topic_counts.index, nsfw_topic_counts.values, color= \"red\" )  # Creating the  bars\n",
    "plt.xlabel('Dominant Topic')  # x-axis Label\n",
    "plt.ylabel('Number of nsfw Posts')  # y-axis Label\n",
    "plt.title('Distribution of Posts by Dominant Topic')  # Add a title\n",
    "plt.xticks(rotation=15)  # Rotating x-axis labels for better readability (optional)\n",
    "plt.tight_layout()  # Adjusting spacing to prevent overlapping elements\n",
    "plt.show()"
   ]
  },
  {
   "cell_type": "code",
   "execution_count": 24,
   "metadata": {},
   "outputs": [
    {
     "data": {
      "text/plain": [
       "dom_topic\n",
       "Sex and Intimacy                  50\n",
       "Life and Relationships            17\n",
       "Dating and Social Interactions    12\n",
       "Family Dynamics                    4\n",
       "Work and Daily Life                3\n",
       "Marriage and Partnership           2\n",
       "Name: count, dtype: int64"
      ]
     },
     "execution_count": 24,
     "metadata": {},
     "output_type": "execute_result"
    }
   ],
   "source": [
    "nsfw_topic_counts"
   ]
  },
  {
   "cell_type": "markdown",
   "metadata": {},
   "source": [
    "\n",
    "**Observations**\n",
    "\n",
    "One thread throughout this data is the discussion in r/relationship_advice that seems to revolve around sex and intimacy. It appears in both the regular and NSFW posts, which would mean that maximum importance is given to sexual health, satisfaction, and compatibility among the users. While most of the sexual issues hold top places on this list, the subreddit also has a more general set of problems relating to relationships encompassing life events, dating, family problems, work-life balance, and  marital issues. What is surprising, however, is the minute  difference in topic distribution between regular and NSFW posts, suggesting that either the NSFW tag is applied liberally or that there is openness about matters related to sex within the community.\n",
    "\n",
    "**Possible Implications**\n",
    "\n",
    "The data obtained points to a deep interrelation between sex and general relationship satisfaction. Further research may be done on exactly what these ties are, and how important they are. It is also remarkable how the platform as a source of ultra-honest  conversation about sexuality reflects possibly wide-ranging changes in societal attitudes. Another avenue for research could be in exploring how gender roles and gender dynamics are represented here, bringing great value to contemporary relationship norms, struggles, and how these shape discourse within this community.\n",
    "\n",
    "\n"
   ]
  },
  {
   "cell_type": "markdown",
   "metadata": {},
   "source": [
    "Now that we have a better understanding of the topic distribution within the post, we will take a look at the comments and analyze the sentiment expressed within them. To further understand the emotional environment of r/relationship_advice. \n"
   ]
  },
  {
   "cell_type": "code",
   "execution_count": 28,
   "metadata": {},
   "outputs": [
    {
     "data": {
      "text/html": [
       "<div>\n",
       "<style scoped>\n",
       "    .dataframe tbody tr th:only-of-type {\n",
       "        vertical-align: middle;\n",
       "    }\n",
       "\n",
       "    .dataframe tbody tr th {\n",
       "        vertical-align: top;\n",
       "    }\n",
       "\n",
       "    .dataframe thead th {\n",
       "        text-align: right;\n",
       "    }\n",
       "</style>\n",
       "<table border=\"1\" class=\"dataframe\">\n",
       "  <thead>\n",
       "    <tr style=\"text-align: right;\">\n",
       "      <th></th>\n",
       "      <th>idint</th>\n",
       "      <th>idstr</th>\n",
       "      <th>created</th>\n",
       "      <th>author</th>\n",
       "      <th>parent</th>\n",
       "      <th>submission</th>\n",
       "      <th>body</th>\n",
       "      <th>score</th>\n",
       "      <th>subreddit</th>\n",
       "      <th>distinguish</th>\n",
       "      <th>textlen</th>\n",
       "    </tr>\n",
       "  </thead>\n",
       "  <tbody>\n",
       "    <tr>\n",
       "      <th>0</th>\n",
       "      <td>26200338326</td>\n",
       "      <td>t1_c1b06fq</td>\n",
       "      <td>1293840001</td>\n",
       "      <td>throwaway-o</td>\n",
       "      <td>t1_c1az6tm</td>\n",
       "      <td>t3_eu4fk</td>\n",
       "      <td>Beta has nothing to do with lack of muscles.  ...</td>\n",
       "      <td>2.0</td>\n",
       "      <td>relationship_advice</td>\n",
       "      <td>NaN</td>\n",
       "      <td>158.0</td>\n",
       "    </tr>\n",
       "    <tr>\n",
       "      <th>1</th>\n",
       "      <td>26200338420</td>\n",
       "      <td>t1_c1b06ic</td>\n",
       "      <td>1293840045</td>\n",
       "      <td>throwaway-o</td>\n",
       "      <td>t1_c1azabo</td>\n",
       "      <td>t3_eu4fk</td>\n",
       "      <td>Remember that Alpha is not about being an SOB....</td>\n",
       "      <td>3.0</td>\n",
       "      <td>relationship_advice</td>\n",
       "      <td>NaN</td>\n",
       "      <td>125.0</td>\n",
       "    </tr>\n",
       "    <tr>\n",
       "      <th>2</th>\n",
       "      <td>26200338549</td>\n",
       "      <td>t1_c1b06lx</td>\n",
       "      <td>1293840104</td>\n",
       "      <td>throwaway-o</td>\n",
       "      <td>t3_etzk2</td>\n",
       "      <td>t3_etzk2</td>\n",
       "      <td>http://ezinearticles.com/?The-Four-Horsemen-of...</td>\n",
       "      <td>1.0</td>\n",
       "      <td>relationship_advice</td>\n",
       "      <td>NaN</td>\n",
       "      <td>75.0</td>\n",
       "    </tr>\n",
       "    <tr>\n",
       "      <th>3</th>\n",
       "      <td>26200339598</td>\n",
       "      <td>t1_c1b07f2</td>\n",
       "      <td>1293840597</td>\n",
       "      <td>Geaux</td>\n",
       "      <td>t3_euct6</td>\n",
       "      <td>t3_euct6</td>\n",
       "      <td>I understand your feeling the need to be with ...</td>\n",
       "      <td>8.0</td>\n",
       "      <td>relationship_advice</td>\n",
       "      <td>NaN</td>\n",
       "      <td>1415.0</td>\n",
       "    </tr>\n",
       "    <tr>\n",
       "      <th>4</th>\n",
       "      <td>26200340481</td>\n",
       "      <td>t1_c1b083l</td>\n",
       "      <td>1293841010</td>\n",
       "      <td>AMerrickanGirl</td>\n",
       "      <td>t1_c1b03ph</td>\n",
       "      <td>t3_euc0u</td>\n",
       "      <td>No, apparently he has a lot to learn about rel...</td>\n",
       "      <td>2.0</td>\n",
       "      <td>relationship_advice</td>\n",
       "      <td>NaN</td>\n",
       "      <td>316.0</td>\n",
       "    </tr>\n",
       "  </tbody>\n",
       "</table>\n",
       "</div>"
      ],
      "text/plain": [
       "         idint       idstr     created          author      parent submission  \\\n",
       "0  26200338326  t1_c1b06fq  1293840001     throwaway-o  t1_c1az6tm   t3_eu4fk   \n",
       "1  26200338420  t1_c1b06ic  1293840045     throwaway-o  t1_c1azabo   t3_eu4fk   \n",
       "2  26200338549  t1_c1b06lx  1293840104     throwaway-o    t3_etzk2   t3_etzk2   \n",
       "3  26200339598  t1_c1b07f2  1293840597           Geaux    t3_euct6   t3_euct6   \n",
       "4  26200340481  t1_c1b083l  1293841010  AMerrickanGirl  t1_c1b03ph   t3_euc0u   \n",
       "\n",
       "                                                body  score  \\\n",
       "0  Beta has nothing to do with lack of muscles.  ...    2.0   \n",
       "1  Remember that Alpha is not about being an SOB....    3.0   \n",
       "2  http://ezinearticles.com/?The-Four-Horsemen-of...    1.0   \n",
       "3  I understand your feeling the need to be with ...    8.0   \n",
       "4  No, apparently he has a lot to learn about rel...    2.0   \n",
       "\n",
       "             subreddit distinguish  textlen  \n",
       "0  relationship_advice         NaN    158.0  \n",
       "1  relationship_advice         NaN    125.0  \n",
       "2  relationship_advice         NaN     75.0  \n",
       "3  relationship_advice         NaN   1415.0  \n",
       "4  relationship_advice         NaN    316.0  "
      ]
     },
     "execution_count": 28,
     "metadata": {},
     "output_type": "execute_result"
    }
   ],
   "source": [
    "cm.head()"
   ]
  },
  {
   "cell_type": "code",
   "execution_count": 54,
   "metadata": {},
   "outputs": [
    {
     "name": "stdout",
     "output_type": "stream",
     "text": [
      "hello\n"
     ]
    }
   ],
   "source": [
    "import nltk\n",
    "from nltk.sentiment import SentimentIntensityAnalyzer\n",
    "\n",
    "sia = SentimentIntensityAnalyzer()\n",
    "\n",
    "res = {}\n",
    "for idx, row in cm.iterrows():\n",
    "  if 'pp_text' in row and isinstance(row['pp_text'], str):\n",
    "    text = row['pp_text']\n",
    "    res[idx] = sia.polarity_scores(text)\n",
    "\n",
    "\n",
    "if res:\n",
    "  vaders = pd.DataFrame(res).T\n",
    "  vaders = vaders.merge(cm, how='left', right_index=True, left_index=True)\n",
    "  vaders.head()\n",
    "print(\"hello\")"
   ]
  },
  {
   "cell_type": "markdown",
   "metadata": {},
   "source": [
    "The code above was inspired by a post on Meduim that will be referenced at the bottom of this notebook. Each word is scored and combined to a total score to get an overall sentiment score of text (Adiaturb).\n"
   ]
  },
  {
   "cell_type": "code",
   "execution_count": 56,
   "metadata": {},
   "outputs": [
    {
     "ename": "NameError",
     "evalue": "name 'vaders' is not defined",
     "output_type": "error",
     "traceback": [
      "\u001b[0;31m---------------------------------------------------------------------------\u001b[0m",
      "\u001b[0;31mNameError\u001b[0m                                 Traceback (most recent call last)",
      "Cell \u001b[0;32mIn[56], line 1\u001b[0m\n\u001b[0;32m----> 1\u001b[0m \u001b[43mvaders\u001b[49m\u001b[38;5;241m.\u001b[39mhead()\n",
      "\u001b[0;31mNameError\u001b[0m: name 'vaders' is not defined"
     ]
    }
   ],
   "source": [
    "vaders.head()"
   ]
  },
  {
   "cell_type": "code",
   "execution_count": 44,
   "metadata": {},
   "outputs": [
    {
     "ename": "TypeError",
     "evalue": "unsupported operand type(s) for +: 'int' and 'str'",
     "output_type": "error",
     "traceback": [
      "\u001b[0;31m---------------------------------------------------------------------------\u001b[0m",
      "\u001b[0;31mTypeError\u001b[0m                                 Traceback (most recent call last)",
      "Cell \u001b[0;32mIn[44], line 9\u001b[0m\n\u001b[1;32m      6\u001b[0m sentiment_labels \u001b[38;5;241m=\u001b[39m cm\u001b[38;5;241m.\u001b[39mcolumns\u001b[38;5;241m.\u001b[39mtolist()[\u001b[38;5;241m0\u001b[39m:\u001b[38;5;241m4\u001b[39m]\n\u001b[1;32m      8\u001b[0m \u001b[38;5;66;03m# Get sentiment frequencies\u001b[39;00m\n\u001b[0;32m----> 9\u001b[0m sentiment_frequencies \u001b[38;5;241m=\u001b[39m \u001b[43mcm\u001b[49m\u001b[38;5;241;43m.\u001b[39;49m\u001b[43msum\u001b[49m\u001b[43m(\u001b[49m\u001b[43maxis\u001b[49m\u001b[38;5;241;43m=\u001b[39;49m\u001b[38;5;241;43m0\u001b[39;49m\u001b[43m)\u001b[49m\n\u001b[1;32m     11\u001b[0m \u001b[38;5;66;03m# Create a bar chart\u001b[39;00m\n\u001b[1;32m     12\u001b[0m plt\u001b[38;5;241m.\u001b[39mfigure(figsize\u001b[38;5;241m=\u001b[39m(\u001b[38;5;241m8\u001b[39m, \u001b[38;5;241m6\u001b[39m))\n",
      "File \u001b[0;32m/opt/anaconda3/envs/myenv/lib/python3.9/site-packages/pandas/core/frame.py:11670\u001b[0m, in \u001b[0;36mDataFrame.sum\u001b[0;34m(self, axis, skipna, numeric_only, min_count, **kwargs)\u001b[0m\n\u001b[1;32m  11661\u001b[0m \u001b[38;5;129m@doc\u001b[39m(make_doc(\u001b[38;5;124m\"\u001b[39m\u001b[38;5;124msum\u001b[39m\u001b[38;5;124m\"\u001b[39m, ndim\u001b[38;5;241m=\u001b[39m\u001b[38;5;241m2\u001b[39m))\n\u001b[1;32m  11662\u001b[0m \u001b[38;5;28;01mdef\u001b[39;00m \u001b[38;5;21msum\u001b[39m(\n\u001b[1;32m  11663\u001b[0m     \u001b[38;5;28mself\u001b[39m,\n\u001b[0;32m   (...)\u001b[0m\n\u001b[1;32m  11668\u001b[0m     \u001b[38;5;241m*\u001b[39m\u001b[38;5;241m*\u001b[39mkwargs,\n\u001b[1;32m  11669\u001b[0m ):\n\u001b[0;32m> 11670\u001b[0m     result \u001b[38;5;241m=\u001b[39m \u001b[38;5;28;43msuper\u001b[39;49m\u001b[43m(\u001b[49m\u001b[43m)\u001b[49m\u001b[38;5;241;43m.\u001b[39;49m\u001b[43msum\u001b[49m\u001b[43m(\u001b[49m\u001b[43maxis\u001b[49m\u001b[43m,\u001b[49m\u001b[43m \u001b[49m\u001b[43mskipna\u001b[49m\u001b[43m,\u001b[49m\u001b[43m \u001b[49m\u001b[43mnumeric_only\u001b[49m\u001b[43m,\u001b[49m\u001b[43m \u001b[49m\u001b[43mmin_count\u001b[49m\u001b[43m,\u001b[49m\u001b[43m \u001b[49m\u001b[38;5;241;43m*\u001b[39;49m\u001b[38;5;241;43m*\u001b[39;49m\u001b[43mkwargs\u001b[49m\u001b[43m)\u001b[49m\n\u001b[1;32m  11671\u001b[0m     \u001b[38;5;28;01mreturn\u001b[39;00m result\u001b[38;5;241m.\u001b[39m__finalize__(\u001b[38;5;28mself\u001b[39m, method\u001b[38;5;241m=\u001b[39m\u001b[38;5;124m\"\u001b[39m\u001b[38;5;124msum\u001b[39m\u001b[38;5;124m\"\u001b[39m)\n",
      "File \u001b[0;32m/opt/anaconda3/envs/myenv/lib/python3.9/site-packages/pandas/core/generic.py:12506\u001b[0m, in \u001b[0;36mNDFrame.sum\u001b[0;34m(self, axis, skipna, numeric_only, min_count, **kwargs)\u001b[0m\n\u001b[1;32m  12498\u001b[0m \u001b[38;5;28;01mdef\u001b[39;00m \u001b[38;5;21msum\u001b[39m(\n\u001b[1;32m  12499\u001b[0m     \u001b[38;5;28mself\u001b[39m,\n\u001b[1;32m  12500\u001b[0m     axis: Axis \u001b[38;5;241m|\u001b[39m \u001b[38;5;28;01mNone\u001b[39;00m \u001b[38;5;241m=\u001b[39m \u001b[38;5;241m0\u001b[39m,\n\u001b[0;32m   (...)\u001b[0m\n\u001b[1;32m  12504\u001b[0m     \u001b[38;5;241m*\u001b[39m\u001b[38;5;241m*\u001b[39mkwargs,\n\u001b[1;32m  12505\u001b[0m ):\n\u001b[0;32m> 12506\u001b[0m     \u001b[38;5;28;01mreturn\u001b[39;00m \u001b[38;5;28;43mself\u001b[39;49m\u001b[38;5;241;43m.\u001b[39;49m\u001b[43m_min_count_stat_function\u001b[49m\u001b[43m(\u001b[49m\n\u001b[1;32m  12507\u001b[0m \u001b[43m        \u001b[49m\u001b[38;5;124;43m\"\u001b[39;49m\u001b[38;5;124;43msum\u001b[39;49m\u001b[38;5;124;43m\"\u001b[39;49m\u001b[43m,\u001b[49m\u001b[43m \u001b[49m\u001b[43mnanops\u001b[49m\u001b[38;5;241;43m.\u001b[39;49m\u001b[43mnansum\u001b[49m\u001b[43m,\u001b[49m\u001b[43m \u001b[49m\u001b[43maxis\u001b[49m\u001b[43m,\u001b[49m\u001b[43m \u001b[49m\u001b[43mskipna\u001b[49m\u001b[43m,\u001b[49m\u001b[43m \u001b[49m\u001b[43mnumeric_only\u001b[49m\u001b[43m,\u001b[49m\u001b[43m \u001b[49m\u001b[43mmin_count\u001b[49m\u001b[43m,\u001b[49m\u001b[43m \u001b[49m\u001b[38;5;241;43m*\u001b[39;49m\u001b[38;5;241;43m*\u001b[39;49m\u001b[43mkwargs\u001b[49m\n\u001b[1;32m  12508\u001b[0m \u001b[43m    \u001b[49m\u001b[43m)\u001b[49m\n",
      "File \u001b[0;32m/opt/anaconda3/envs/myenv/lib/python3.9/site-packages/pandas/core/generic.py:12489\u001b[0m, in \u001b[0;36mNDFrame._min_count_stat_function\u001b[0;34m(self, name, func, axis, skipna, numeric_only, min_count, **kwargs)\u001b[0m\n\u001b[1;32m  12486\u001b[0m \u001b[38;5;28;01melif\u001b[39;00m axis \u001b[38;5;129;01mis\u001b[39;00m lib\u001b[38;5;241m.\u001b[39mno_default:\n\u001b[1;32m  12487\u001b[0m     axis \u001b[38;5;241m=\u001b[39m \u001b[38;5;241m0\u001b[39m\n\u001b[0;32m> 12489\u001b[0m \u001b[38;5;28;01mreturn\u001b[39;00m \u001b[38;5;28;43mself\u001b[39;49m\u001b[38;5;241;43m.\u001b[39;49m\u001b[43m_reduce\u001b[49m\u001b[43m(\u001b[49m\n\u001b[1;32m  12490\u001b[0m \u001b[43m    \u001b[49m\u001b[43mfunc\u001b[49m\u001b[43m,\u001b[49m\n\u001b[1;32m  12491\u001b[0m \u001b[43m    \u001b[49m\u001b[43mname\u001b[49m\u001b[38;5;241;43m=\u001b[39;49m\u001b[43mname\u001b[49m\u001b[43m,\u001b[49m\n\u001b[1;32m  12492\u001b[0m \u001b[43m    \u001b[49m\u001b[43maxis\u001b[49m\u001b[38;5;241;43m=\u001b[39;49m\u001b[43maxis\u001b[49m\u001b[43m,\u001b[49m\n\u001b[1;32m  12493\u001b[0m \u001b[43m    \u001b[49m\u001b[43mskipna\u001b[49m\u001b[38;5;241;43m=\u001b[39;49m\u001b[43mskipna\u001b[49m\u001b[43m,\u001b[49m\n\u001b[1;32m  12494\u001b[0m \u001b[43m    \u001b[49m\u001b[43mnumeric_only\u001b[49m\u001b[38;5;241;43m=\u001b[39;49m\u001b[43mnumeric_only\u001b[49m\u001b[43m,\u001b[49m\n\u001b[1;32m  12495\u001b[0m \u001b[43m    \u001b[49m\u001b[43mmin_count\u001b[49m\u001b[38;5;241;43m=\u001b[39;49m\u001b[43mmin_count\u001b[49m\u001b[43m,\u001b[49m\n\u001b[1;32m  12496\u001b[0m \u001b[43m\u001b[49m\u001b[43m)\u001b[49m\n",
      "File \u001b[0;32m/opt/anaconda3/envs/myenv/lib/python3.9/site-packages/pandas/core/frame.py:11562\u001b[0m, in \u001b[0;36mDataFrame._reduce\u001b[0;34m(self, op, name, axis, skipna, numeric_only, filter_type, **kwds)\u001b[0m\n\u001b[1;32m  11558\u001b[0m     df \u001b[38;5;241m=\u001b[39m df\u001b[38;5;241m.\u001b[39mT\n\u001b[1;32m  11560\u001b[0m \u001b[38;5;66;03m# After possibly _get_data and transposing, we are now in the\u001b[39;00m\n\u001b[1;32m  11561\u001b[0m \u001b[38;5;66;03m#  simple case where we can use BlockManager.reduce\u001b[39;00m\n\u001b[0;32m> 11562\u001b[0m res \u001b[38;5;241m=\u001b[39m \u001b[43mdf\u001b[49m\u001b[38;5;241;43m.\u001b[39;49m\u001b[43m_mgr\u001b[49m\u001b[38;5;241;43m.\u001b[39;49m\u001b[43mreduce\u001b[49m\u001b[43m(\u001b[49m\u001b[43mblk_func\u001b[49m\u001b[43m)\u001b[49m\n\u001b[1;32m  11563\u001b[0m out \u001b[38;5;241m=\u001b[39m df\u001b[38;5;241m.\u001b[39m_constructor_from_mgr(res, axes\u001b[38;5;241m=\u001b[39mres\u001b[38;5;241m.\u001b[39maxes)\u001b[38;5;241m.\u001b[39miloc[\u001b[38;5;241m0\u001b[39m]\n\u001b[1;32m  11564\u001b[0m \u001b[38;5;28;01mif\u001b[39;00m out_dtype \u001b[38;5;129;01mis\u001b[39;00m \u001b[38;5;129;01mnot\u001b[39;00m \u001b[38;5;28;01mNone\u001b[39;00m \u001b[38;5;129;01mand\u001b[39;00m out\u001b[38;5;241m.\u001b[39mdtype \u001b[38;5;241m!=\u001b[39m \u001b[38;5;124m\"\u001b[39m\u001b[38;5;124mboolean\u001b[39m\u001b[38;5;124m\"\u001b[39m:\n",
      "File \u001b[0;32m/opt/anaconda3/envs/myenv/lib/python3.9/site-packages/pandas/core/internals/managers.py:1500\u001b[0m, in \u001b[0;36mBlockManager.reduce\u001b[0;34m(self, func)\u001b[0m\n\u001b[1;32m   1498\u001b[0m res_blocks: \u001b[38;5;28mlist\u001b[39m[Block] \u001b[38;5;241m=\u001b[39m []\n\u001b[1;32m   1499\u001b[0m \u001b[38;5;28;01mfor\u001b[39;00m blk \u001b[38;5;129;01min\u001b[39;00m \u001b[38;5;28mself\u001b[39m\u001b[38;5;241m.\u001b[39mblocks:\n\u001b[0;32m-> 1500\u001b[0m     nbs \u001b[38;5;241m=\u001b[39m \u001b[43mblk\u001b[49m\u001b[38;5;241;43m.\u001b[39;49m\u001b[43mreduce\u001b[49m\u001b[43m(\u001b[49m\u001b[43mfunc\u001b[49m\u001b[43m)\u001b[49m\n\u001b[1;32m   1501\u001b[0m     res_blocks\u001b[38;5;241m.\u001b[39mextend(nbs)\n\u001b[1;32m   1503\u001b[0m index \u001b[38;5;241m=\u001b[39m Index([\u001b[38;5;28;01mNone\u001b[39;00m])  \u001b[38;5;66;03m# placeholder\u001b[39;00m\n",
      "File \u001b[0;32m/opt/anaconda3/envs/myenv/lib/python3.9/site-packages/pandas/core/internals/blocks.py:404\u001b[0m, in \u001b[0;36mBlock.reduce\u001b[0;34m(self, func)\u001b[0m\n\u001b[1;32m    398\u001b[0m \u001b[38;5;129m@final\u001b[39m\n\u001b[1;32m    399\u001b[0m \u001b[38;5;28;01mdef\u001b[39;00m \u001b[38;5;21mreduce\u001b[39m(\u001b[38;5;28mself\u001b[39m, func) \u001b[38;5;241m-\u001b[39m\u001b[38;5;241m>\u001b[39m \u001b[38;5;28mlist\u001b[39m[Block]:\n\u001b[1;32m    400\u001b[0m     \u001b[38;5;66;03m# We will apply the function and reshape the result into a single-row\u001b[39;00m\n\u001b[1;32m    401\u001b[0m     \u001b[38;5;66;03m#  Block with the same mgr_locs; squeezing will be done at a higher level\u001b[39;00m\n\u001b[1;32m    402\u001b[0m     \u001b[38;5;28;01massert\u001b[39;00m \u001b[38;5;28mself\u001b[39m\u001b[38;5;241m.\u001b[39mndim \u001b[38;5;241m==\u001b[39m \u001b[38;5;241m2\u001b[39m\n\u001b[0;32m--> 404\u001b[0m     result \u001b[38;5;241m=\u001b[39m \u001b[43mfunc\u001b[49m\u001b[43m(\u001b[49m\u001b[38;5;28;43mself\u001b[39;49m\u001b[38;5;241;43m.\u001b[39;49m\u001b[43mvalues\u001b[49m\u001b[43m)\u001b[49m\n\u001b[1;32m    406\u001b[0m     \u001b[38;5;28;01mif\u001b[39;00m \u001b[38;5;28mself\u001b[39m\u001b[38;5;241m.\u001b[39mvalues\u001b[38;5;241m.\u001b[39mndim \u001b[38;5;241m==\u001b[39m \u001b[38;5;241m1\u001b[39m:\n\u001b[1;32m    407\u001b[0m         res_values \u001b[38;5;241m=\u001b[39m result\n",
      "File \u001b[0;32m/opt/anaconda3/envs/myenv/lib/python3.9/site-packages/pandas/core/frame.py:11481\u001b[0m, in \u001b[0;36mDataFrame._reduce.<locals>.blk_func\u001b[0;34m(values, axis)\u001b[0m\n\u001b[1;32m  11479\u001b[0m         \u001b[38;5;28;01mreturn\u001b[39;00m np\u001b[38;5;241m.\u001b[39marray([result])\n\u001b[1;32m  11480\u001b[0m \u001b[38;5;28;01melse\u001b[39;00m:\n\u001b[0;32m> 11481\u001b[0m     \u001b[38;5;28;01mreturn\u001b[39;00m \u001b[43mop\u001b[49m\u001b[43m(\u001b[49m\u001b[43mvalues\u001b[49m\u001b[43m,\u001b[49m\u001b[43m \u001b[49m\u001b[43maxis\u001b[49m\u001b[38;5;241;43m=\u001b[39;49m\u001b[43maxis\u001b[49m\u001b[43m,\u001b[49m\u001b[43m \u001b[49m\u001b[43mskipna\u001b[49m\u001b[38;5;241;43m=\u001b[39;49m\u001b[43mskipna\u001b[49m\u001b[43m,\u001b[49m\u001b[43m \u001b[49m\u001b[38;5;241;43m*\u001b[39;49m\u001b[38;5;241;43m*\u001b[39;49m\u001b[43mkwds\u001b[49m\u001b[43m)\u001b[49m\n",
      "File \u001b[0;32m/opt/anaconda3/envs/myenv/lib/python3.9/site-packages/pandas/core/nanops.py:85\u001b[0m, in \u001b[0;36mdisallow.__call__.<locals>._f\u001b[0;34m(*args, **kwargs)\u001b[0m\n\u001b[1;32m     81\u001b[0m     \u001b[38;5;28;01mraise\u001b[39;00m \u001b[38;5;167;01mTypeError\u001b[39;00m(\n\u001b[1;32m     82\u001b[0m         \u001b[38;5;124mf\u001b[39m\u001b[38;5;124m\"\u001b[39m\u001b[38;5;124mreduction operation \u001b[39m\u001b[38;5;124m'\u001b[39m\u001b[38;5;132;01m{\u001b[39;00mf_name\u001b[38;5;132;01m}\u001b[39;00m\u001b[38;5;124m'\u001b[39m\u001b[38;5;124m not allowed for this dtype\u001b[39m\u001b[38;5;124m\"\u001b[39m\n\u001b[1;32m     83\u001b[0m     )\n\u001b[1;32m     84\u001b[0m \u001b[38;5;28;01mtry\u001b[39;00m:\n\u001b[0;32m---> 85\u001b[0m     \u001b[38;5;28;01mreturn\u001b[39;00m \u001b[43mf\u001b[49m\u001b[43m(\u001b[49m\u001b[38;5;241;43m*\u001b[39;49m\u001b[43margs\u001b[49m\u001b[43m,\u001b[49m\u001b[43m \u001b[49m\u001b[38;5;241;43m*\u001b[39;49m\u001b[38;5;241;43m*\u001b[39;49m\u001b[43mkwargs\u001b[49m\u001b[43m)\u001b[49m\n\u001b[1;32m     86\u001b[0m \u001b[38;5;28;01mexcept\u001b[39;00m \u001b[38;5;167;01mValueError\u001b[39;00m \u001b[38;5;28;01mas\u001b[39;00m e:\n\u001b[1;32m     87\u001b[0m     \u001b[38;5;66;03m# we want to transform an object array\u001b[39;00m\n\u001b[1;32m     88\u001b[0m     \u001b[38;5;66;03m# ValueError message to the more typical TypeError\u001b[39;00m\n\u001b[1;32m     89\u001b[0m     \u001b[38;5;66;03m# e.g. this is normally a disallowed function on\u001b[39;00m\n\u001b[1;32m     90\u001b[0m     \u001b[38;5;66;03m# object arrays that contain strings\u001b[39;00m\n\u001b[1;32m     91\u001b[0m     \u001b[38;5;28;01mif\u001b[39;00m is_object_dtype(args[\u001b[38;5;241m0\u001b[39m]):\n",
      "File \u001b[0;32m/opt/anaconda3/envs/myenv/lib/python3.9/site-packages/pandas/core/nanops.py:404\u001b[0m, in \u001b[0;36m_datetimelike_compat.<locals>.new_func\u001b[0;34m(values, axis, skipna, mask, **kwargs)\u001b[0m\n\u001b[1;32m    401\u001b[0m \u001b[38;5;28;01mif\u001b[39;00m datetimelike \u001b[38;5;129;01mand\u001b[39;00m mask \u001b[38;5;129;01mis\u001b[39;00m \u001b[38;5;28;01mNone\u001b[39;00m:\n\u001b[1;32m    402\u001b[0m     mask \u001b[38;5;241m=\u001b[39m isna(values)\n\u001b[0;32m--> 404\u001b[0m result \u001b[38;5;241m=\u001b[39m \u001b[43mfunc\u001b[49m\u001b[43m(\u001b[49m\u001b[43mvalues\u001b[49m\u001b[43m,\u001b[49m\u001b[43m \u001b[49m\u001b[43maxis\u001b[49m\u001b[38;5;241;43m=\u001b[39;49m\u001b[43maxis\u001b[49m\u001b[43m,\u001b[49m\u001b[43m \u001b[49m\u001b[43mskipna\u001b[49m\u001b[38;5;241;43m=\u001b[39;49m\u001b[43mskipna\u001b[49m\u001b[43m,\u001b[49m\u001b[43m \u001b[49m\u001b[43mmask\u001b[49m\u001b[38;5;241;43m=\u001b[39;49m\u001b[43mmask\u001b[49m\u001b[43m,\u001b[49m\u001b[43m \u001b[49m\u001b[38;5;241;43m*\u001b[39;49m\u001b[38;5;241;43m*\u001b[39;49m\u001b[43mkwargs\u001b[49m\u001b[43m)\u001b[49m\n\u001b[1;32m    406\u001b[0m \u001b[38;5;28;01mif\u001b[39;00m datetimelike:\n\u001b[1;32m    407\u001b[0m     result \u001b[38;5;241m=\u001b[39m _wrap_results(result, orig_values\u001b[38;5;241m.\u001b[39mdtype, fill_value\u001b[38;5;241m=\u001b[39miNaT)\n",
      "File \u001b[0;32m/opt/anaconda3/envs/myenv/lib/python3.9/site-packages/pandas/core/nanops.py:477\u001b[0m, in \u001b[0;36mmaybe_operate_rowwise.<locals>.newfunc\u001b[0;34m(values, axis, **kwargs)\u001b[0m\n\u001b[1;32m    474\u001b[0m         results \u001b[38;5;241m=\u001b[39m [func(x, \u001b[38;5;241m*\u001b[39m\u001b[38;5;241m*\u001b[39mkwargs) \u001b[38;5;28;01mfor\u001b[39;00m x \u001b[38;5;129;01min\u001b[39;00m arrs]\n\u001b[1;32m    475\u001b[0m     \u001b[38;5;28;01mreturn\u001b[39;00m np\u001b[38;5;241m.\u001b[39marray(results)\n\u001b[0;32m--> 477\u001b[0m \u001b[38;5;28;01mreturn\u001b[39;00m \u001b[43mfunc\u001b[49m\u001b[43m(\u001b[49m\u001b[43mvalues\u001b[49m\u001b[43m,\u001b[49m\u001b[43m \u001b[49m\u001b[43maxis\u001b[49m\u001b[38;5;241;43m=\u001b[39;49m\u001b[43maxis\u001b[49m\u001b[43m,\u001b[49m\u001b[43m \u001b[49m\u001b[38;5;241;43m*\u001b[39;49m\u001b[38;5;241;43m*\u001b[39;49m\u001b[43mkwargs\u001b[49m\u001b[43m)\u001b[49m\n",
      "File \u001b[0;32m/opt/anaconda3/envs/myenv/lib/python3.9/site-packages/pandas/core/nanops.py:646\u001b[0m, in \u001b[0;36mnansum\u001b[0;34m(values, axis, skipna, min_count, mask)\u001b[0m\n\u001b[1;32m    643\u001b[0m \u001b[38;5;28;01melif\u001b[39;00m dtype\u001b[38;5;241m.\u001b[39mkind \u001b[38;5;241m==\u001b[39m \u001b[38;5;124m\"\u001b[39m\u001b[38;5;124mm\u001b[39m\u001b[38;5;124m\"\u001b[39m:\n\u001b[1;32m    644\u001b[0m     dtype_sum \u001b[38;5;241m=\u001b[39m np\u001b[38;5;241m.\u001b[39mdtype(np\u001b[38;5;241m.\u001b[39mfloat64)\n\u001b[0;32m--> 646\u001b[0m the_sum \u001b[38;5;241m=\u001b[39m \u001b[43mvalues\u001b[49m\u001b[38;5;241;43m.\u001b[39;49m\u001b[43msum\u001b[49m\u001b[43m(\u001b[49m\u001b[43maxis\u001b[49m\u001b[43m,\u001b[49m\u001b[43m \u001b[49m\u001b[43mdtype\u001b[49m\u001b[38;5;241;43m=\u001b[39;49m\u001b[43mdtype_sum\u001b[49m\u001b[43m)\u001b[49m\n\u001b[1;32m    647\u001b[0m the_sum \u001b[38;5;241m=\u001b[39m _maybe_null_out(the_sum, axis, mask, values\u001b[38;5;241m.\u001b[39mshape, min_count\u001b[38;5;241m=\u001b[39mmin_count)\n\u001b[1;32m    649\u001b[0m \u001b[38;5;28;01mreturn\u001b[39;00m the_sum\n",
      "File \u001b[0;32m/opt/anaconda3/envs/myenv/lib/python3.9/site-packages/numpy/core/_methods.py:49\u001b[0m, in \u001b[0;36m_sum\u001b[0;34m(a, axis, dtype, out, keepdims, initial, where)\u001b[0m\n\u001b[1;32m     47\u001b[0m \u001b[38;5;28;01mdef\u001b[39;00m \u001b[38;5;21m_sum\u001b[39m(a, axis\u001b[38;5;241m=\u001b[39m\u001b[38;5;28;01mNone\u001b[39;00m, dtype\u001b[38;5;241m=\u001b[39m\u001b[38;5;28;01mNone\u001b[39;00m, out\u001b[38;5;241m=\u001b[39m\u001b[38;5;28;01mNone\u001b[39;00m, keepdims\u001b[38;5;241m=\u001b[39m\u001b[38;5;28;01mFalse\u001b[39;00m,\n\u001b[1;32m     48\u001b[0m          initial\u001b[38;5;241m=\u001b[39m_NoValue, where\u001b[38;5;241m=\u001b[39m\u001b[38;5;28;01mTrue\u001b[39;00m):\n\u001b[0;32m---> 49\u001b[0m     \u001b[38;5;28;01mreturn\u001b[39;00m \u001b[43mumr_sum\u001b[49m\u001b[43m(\u001b[49m\u001b[43ma\u001b[49m\u001b[43m,\u001b[49m\u001b[43m \u001b[49m\u001b[43maxis\u001b[49m\u001b[43m,\u001b[49m\u001b[43m \u001b[49m\u001b[43mdtype\u001b[49m\u001b[43m,\u001b[49m\u001b[43m \u001b[49m\u001b[43mout\u001b[49m\u001b[43m,\u001b[49m\u001b[43m \u001b[49m\u001b[43mkeepdims\u001b[49m\u001b[43m,\u001b[49m\u001b[43m \u001b[49m\u001b[43minitial\u001b[49m\u001b[43m,\u001b[49m\u001b[43m \u001b[49m\u001b[43mwhere\u001b[49m\u001b[43m)\u001b[49m\n",
      "\u001b[0;31mTypeError\u001b[0m: unsupported operand type(s) for +: 'int' and 'str'"
     ]
    }
   ],
   "source": [
    "# let's visualize the data, this takes a while  \n",
    "import pandas as pd\n",
    "import matplotlib.pyplot as plt\n",
    "\n",
    "# Get sentiment labels\n",
    "sentiment_labels = cm.columns.tolist()[0:4]\n",
    "\n",
    "# Get sentiment frequencies\n",
    "sentiment_frequencies = cm.sum(axis=0)\n",
    "\n",
    "# Create a bar chart\n",
    "plt.figure(figsize=(8, 6))\n",
    "plt.bar(sentiment_labels, sentiment_frequencies, color=['red', 'green', 'blue', 'purple'])\n",
    "plt.xlabel('Sentiment')\n",
    "plt.ylabel('Frequency')\n",
    "plt.title('Frequency of Sentiments in Dataframe')\n",
    "plt.xticks(rotation=45)\n",
    "plt.tight_layout()\n",
    "\n",
    "# Show the plot\n",
    "plt.show()"
   ]
  },
  {
   "cell_type": "markdown",
   "metadata": {},
   "source": [
    "<img src=\"img/sentimentanalysischart.png\" width=\"700\" />\n",
    "Figure 1.2 Previous sentiment analysis chart results  "
   ]
  },
  {
   "cell_type": "markdown",
   "metadata": {},
   "source": [
    "Comment sentiment analysis on the r/relationship_advice subreddit suggests that the dominant or most common attitude is one of neutrality. Although negative sentiment has a higher frequency  than positive, most comments fall into the  neutral category. This could mean that when giving advice on issues related to relationships, users often hold a very complex view. The predominance of the neutral polarity, in this case, signifies empathizing and willingness to understand, as opposed to rushing to condemn. This fosters a community where, most of the time, the users feel free to express themselves about their challenges without fear of negative evaluations.\n"
   ]
  },
  {
   "cell_type": "markdown",
   "metadata": {},
   "source": [
    "### 1) Top sampeling \n",
    "\n",
    " •**Selection Criteria**: Analyzing top-performing posts based on upvotes, comments, and shares to understand what drives engagement.\n",
    " \n",
    " •**Close Reading**: Conducting a detailed examination of the language, tone, and structure of top posts to understand their appeal.\n",
    "\n"
   ]
  },
  {
   "cell_type": "code",
   "execution_count": 58,
   "metadata": {},
   "outputs": [
    {
     "data": {
      "text/html": [
       "<div>\n",
       "<style scoped>\n",
       "    .dataframe tbody tr th:only-of-type {\n",
       "        vertical-align: middle;\n",
       "    }\n",
       "\n",
       "    .dataframe tbody tr th {\n",
       "        vertical-align: top;\n",
       "    }\n",
       "\n",
       "    .dataframe thead th {\n",
       "        text-align: right;\n",
       "    }\n",
       "</style>\n",
       "<table border=\"1\" class=\"dataframe\">\n",
       "  <thead>\n",
       "    <tr style=\"text-align: right;\">\n",
       "      <th></th>\n",
       "      <th>title</th>\n",
       "      <th>num_comments</th>\n",
       "      <th>score</th>\n",
       "      <th>dom_topic</th>\n",
       "    </tr>\n",
       "  </thead>\n",
       "  <tbody>\n",
       "    <tr>\n",
       "      <th>0</th>\n",
       "      <td>I (33m) overheard my girlfriend (28f) making f...</td>\n",
       "      <td>161</td>\n",
       "      <td>1918</td>\n",
       "      <td>Work and Daily Life</td>\n",
       "    </tr>\n",
       "    <tr>\n",
       "      <th>1</th>\n",
       "      <td>UPDATE: I (33m) overheard my girlfriend (28f) ...</td>\n",
       "      <td>310</td>\n",
       "      <td>1558</td>\n",
       "      <td>Work and Daily Life</td>\n",
       "    </tr>\n",
       "    <tr>\n",
       "      <th>2</th>\n",
       "      <td>Update: I [28f] literally just found email aft...</td>\n",
       "      <td>62</td>\n",
       "      <td>1311</td>\n",
       "      <td>Life and Relationships</td>\n",
       "    </tr>\n",
       "    <tr>\n",
       "      <th>3</th>\n",
       "      <td>UPDATE: My sister (28F) left her cat with me (...</td>\n",
       "      <td>42</td>\n",
       "      <td>800</td>\n",
       "      <td>Family Dynamics</td>\n",
       "    </tr>\n",
       "    <tr>\n",
       "      <th>4</th>\n",
       "      <td>Update to \"I think my wife cheated on me, but ...</td>\n",
       "      <td>508</td>\n",
       "      <td>717</td>\n",
       "      <td>Sex and Intimacy</td>\n",
       "    </tr>\n",
       "  </tbody>\n",
       "</table>\n",
       "</div>"
      ],
      "text/plain": [
       "                                               title  num_comments  score  \\\n",
       "0  I (33m) overheard my girlfriend (28f) making f...           161   1918   \n",
       "1  UPDATE: I (33m) overheard my girlfriend (28f) ...           310   1558   \n",
       "2  Update: I [28f] literally just found email aft...            62   1311   \n",
       "3  UPDATE: My sister (28F) left her cat with me (...            42    800   \n",
       "4  Update to \"I think my wife cheated on me, but ...           508    717   \n",
       "\n",
       "                dom_topic  \n",
       "0     Work and Daily Life  \n",
       "1     Work and Daily Life  \n",
       "2  Life and Relationships  \n",
       "3         Family Dynamics  \n",
       "4        Sex and Intimacy  "
      ]
     },
     "execution_count": 58,
     "metadata": {},
     "output_type": "execute_result"
    }
   ],
   "source": [
    "top_5_rows = df.nlargest(5, 'score')  #this will give us the top 5 votes with the highest scores (upvotes-downvotes)\n",
    "top_5_comments = df.nlargest(5, 'num_comments')  #this will give us the top 5 votes with the most comments \n",
    "\n",
    "\n",
    "top_5_rows[[\"title\", \"num_comments\", \"score\", \"dom_topic\"]]"
   ]
  },
  {
   "cell_type": "markdown",
   "metadata": {},
   "source": [
    "\n",
    "Out of the all-time top five posts, four of them are updates. These posts usually could be categorized into a few different topics, but they all involve very atypical situations or situations one would characterize as “shocking”.  These situations generate enormous amounts of intrigue that an \"update\" post is demanded. Let's further analyze the first two posts.  This will help us identify what specifically generates traffic in this community and what topics are considered the most important. \n"
   ]
  },
  {
   "cell_type": "code",
   "execution_count": 60,
   "metadata": {},
   "outputs": [
    {
     "data": {
      "text/plain": [
       "'I originally posted this elsewhere, but it was deleted for whatever reason. I\\'m reposting so that I can link to it when I post the update. If that makes sense.\\n\\nMy girlfriend, \"Jenna\", and I have been together for 2 years, a little over.\\n\\nI\\'m a veterinarian and we met at my office. She had just moved to the city and brought her dog in for an ear infection. We started talking and what should have been a 15 minute appointment turned into an hour long talking session.\\n\\nI\\'ve never been so smitten with a woman before. Before Jenna, I lived the bachelor lifestyle. I was beginning to think I\\'d just stay single forever, even though that lifestyle of nothing but casual flings was growing really old and empty.\\n\\nJenna is a charismatic woman with a lot of friends. Her best friend is a guy, \"Dylan\", she knew in her old town. I trust Jenna but I\\'d be boldfaced lying if I said that her relationship with him doesn\\'t bother me at all. I don\\'t get angry with her or fight about it, she\\'s reassured me that they\\'ve been friends their whole lives and have never had any sexual relationship.\\n\\nI\\'m secure and I\\'m not insane, so I accept that they are friends and have tried to buddy up with him as well. He has visited the city 3 times. He\\'s a cool guy, however, he does not seem to like me much. Jenna says he\\'s just protective. It comes off a whole lot more like jealousy than protectiveness, in my opinion.\\n\\nJenna just finished up grad school this spring but she\\'s had a really tough time finding a job. We have lived together for a year and I\\'ve been understanding that she can\\'t help pay rent, etc. right now. I\\'m very financially secure so it isn\\'t an issue, however, I am careful to not become a reason for her to not get a job and have her own financial independence. I just think it\\'s important for everyone to have this sort of independence. So, without being pushy, I\\'ve let her know that she does need to start paying half of the expenses once she secures a job.\\n\\nAnyway, she texted me at work on Monday to tell me she got a job. It\\'s a job she really, really wanted and had to go through some pretty grueling interviews to get. I was so happy and proud of her that I decided to leave the rest of the day at the office up to my staff and took off early without telling Jenna.\\n\\nI bought her favorite booze, grabbed a bunch of Chinese take out (her favorite), and bought her flowers.\\n\\nI had bought her a nice necklace that she\\'d seen at a store a couple of weeks ago. Nothing super extravagant, but it has a shark on it and that woman is just obsessed with anything to do with sharks. I\\'d hidden it in the basement and figured I\\'d give it to her soon, totally surprise her with t once she\\'d forgotten about even seeing it in the store. I got home and came in the side entrance to the basement so I could grab the necklace and then surprise her.\\n\\nWhen I came up the basement steps and opened the door, I could hear her talking on the phone. Normally I wouldn\\'t stop and listen but I heard her laughing uncontrollably, like belly-laughing. It was pretty cute so I figured I\\'d wait for her to get off the phone before I surprised her.\\n\\nShe was talking to Dylan. Nothing new there, they talk at least once a week.\\n\\nThen I heard what they were laughing about.\\n\\nIt took me a few dull minutes to realize that she was laughing about our sex life. She said something about how \"No, he can\\'t even compare to (ex bf). Ex bf had at least 3 inches on him.\" \"I feel bad every time I eat a baby carrot around him because it must be traumatic to see me chomping down on something the same size as him.\" \"It would almost be cute if it didn\\'t suck so much. His body is amazing as long as he keeps his boxers on.\" Lots of laughter.\\n\\nSo look, I don\\'t really give a crap what people on Reddit think about the, erm... size of my member... but, I do think it\\'s important to say that what she was making fun of wasn\\'t even true. Which in my opinion, makes it even more hurtful. I mean, I don\\'t know about the ex bf, maybe he was a horse, but I\\'m very.... average. Just good old fashioned average. Not going to upsell myself here. It\\'s nothing to write home about. But it\\'s also not laughable. I\\'ve never felt self conscious, it is what it is.\\n\\nTo hear her ripping me apart to this guy that she knows I have some concern about was just beyond hurtful. Hurtful doesn\\'t cover it.\\n\\nShe also made fun of me for being \"gorgeous but not super smart\".\\n\\nUm... I\\'m actually highly educated. This isn\\'t even remotely a concern of mine, I know I\\'m smart. Gorgeous and super smart with an average sized penis, thanks very much.\\n\\nI left after that. Did I throw the flowers out of my car window? Yes. Did I cry in a parking lot? Yes.\\n\\nI think she may have heard the basement door close, maybe she even saw my car driving away, because she started texting me pretty quickly after I left. Asking when I was coming home.\\n\\nThat was Monday and I haven\\'t brought it up. I don\\'t know how. I think I\\'m still processing everything. It\\'s horribly embarrassing and hurtful. But... damn I love this girl. Not saying I\\'m going to forgive her necessarily, I just want to stress how hard this whole thing is for me.\\n\\nI know I need to bring it up to her. But how? Any suggestions on how to start this conversation with her? I\\'m extremely hurt and I don\\'t know if I can forgive her for this\\n\\ntl;dr: My girlfriend made fun of me with her male friend. About our sex life/my penis. Pretty hurtful stuff. I feel like a puppy that just got kicked in the face. Joking aside, I\\'m devastated. I was planning to propose in the next few months. Now I don\\'t see how I can even forgive her and stay with her. Advice?\\n\\nEdit Wow, hey thanks everyone! I just wanted to add that I definitely will be breaking up with Jenna. I grabbed a beer with three of my friends tonight and told them. Their sentiments matched the majority of yours: dump her and do it quick. I called my mom and told her about it (yes, I told her everything, embarrassing as it was; we are pretty close and I wanted to tell her the whole story) and I\\'ve never heard her so angry about anything. She knew I\\'d bought a ring for Jenna. I will post an update after I do it (probably tomorrow), though it may take me a couple of days to post about it. I\\'m going to be pretty wrecked emotionally. Thanks again for all the comments/messages of support and encouragement, I really didn\\'t expect everyone to be rooting for me like this!\\n\\nLink to update: https://www.reddit.com/r/relationship_advice/comments/56jaej/update_i_33m_overheard_my_girlfriend_28f_making/'"
      ]
     },
     "execution_count": 60,
     "metadata": {},
     "output_type": "execute_result"
    }
   ],
   "source": [
    "top_5_rows.iloc[0]['selftext']"
   ]
  },
  {
   "cell_type": "code",
   "execution_count": 62,
   "metadata": {},
   "outputs": [
    {
     "data": {
      "text/plain": [
       "'Link to original post: \\n\\nhttps://www.reddit.com/r/relationship_advice/comments/56j6zw/i_33m_overheard_my_girlfriend_28f_making_fun_of/\\n\\nWell, supportive Reddit strangers, I stayed strong and broke up with Jenna Thursday evening. This has honestly been the most dramatic couple of days of my entire life. I am exhausted. Things got pretty ugly on her part. Sorry that this is so long, a lot happened.\\n\\nAt the suggestion of my friends, mother, brother, and many of you, I talked to her in a private but still public place. The thought behind that was that someone who can be so cruel and reveal herself as a liar is potentially capable of trying to turn things around on me and say that she left me because I hurt her or some other nonsense. I\\'d like to think she wouldn\\'t do something like that, but who knows, especially after everything that has happened. Better safe than sorry.\\n\\nI thought about just boxing up her stuff and breaking things off with no explanation. But it has been over 2 years together, I decided the best thing to do is to confront her calmly and then hear her out. If she had an explanation, I wanted to hear it, even if it didn\\'t change my decision to break up with her. So I took her to a wine bar in downtown that has those little individual booths with half curtains. \\n\\nShe\\'s been sugary sweet since Monday. Which tells me she either a) felt guilty about what a jerk she was, b) thought I might have heard her, or c) she just knew I\\'d been acting distant and was totally clueless as to why. So she dressed up really nice and, despite everything that has happened, I can admit that she looked stunning. She was also very affectionate and kept making a lot of sexy comments about all the things she wanted to do to me later. Normally, my precious little baby carrot would have been thrilled by this, but given the circumstances, it was difficult to hear and act normal.\\n\\nI had rehearsed what I was going to say to her over and over so as soon as we sat down and got our wine, I started. I can\\'t remember word for word, my adrenaline was kicked in pretty high gear so it feels fuzzy. I basically started by saying how much I\\'ve loved her, how she\\'s the only woman that I\\'ve ever felt connected to so profoundly that I opened myself up to her completely and trusted her. I told her that she\\'s the only woman I\\'ve ever thought about marrying, that I\\'ve gone ring shopping for (I left out the part about how I already bought a ring), and that I\\'ve actually imagined having children with in the next few years. She kept interrupting me to say \"aw\" or to tell me how much she loves me, too.\\n\\nThen I looked her in the eye and asked her point blank why, if she loved me so much, she horrendously made fun of me to Dylan. \\n\\nI have to say, the look on her face was a bit satisfying.\\n\\nAs expected, she denied at first and acted like she had no idea what I was talking about. She said Dylan knows how much she loves me and that she\\'s never made fun of me to him. I kind of just looked at her and said something like \"come on, Jenna.\" But she still denied even after I told her that I\\'d come home early on Monday and had heard her. \\n\\nIt was pretty frustrating but I kept my cool. I just told her that she and I both know she\\'s lying and that the things she said were unforgivable and that I couldn\\'t wrap my mind around why she would say things like that to anyone, let alone Dylan, especially because she was lying just to be able to rag on me. \\n\\nStill denied and acted like I was crazy, she said she loves me so much, that she\\'s not dissatisfied with our sex life and would never say she was or complain about my size, and that she knows how smart and sweet I am, that\\'s why she loves me.\\n\\nIf I hadn\\'t heard what she said to Dylan myself, I would have believed her. She deserves an Oscar for that performance. Some commenters asked if I was sure she was talking about me when I overheard her. When she was talking about her ex bf and his kraken of a dick, she said my name when she was making the comparison. I\\'m definitely sure that she was talking about me and that she was lying to my face about it.\\n\\nI told her that I would drive us home and she could grab the essentials she needed and her dog. My brother and his girlfriend would be at the house, too. I wanted to make sure there were other people there just to have witnesses that I let her get her stuff and didn\\'t do anything aggressive or destructive. I told her I\\'d pack the rest of her stuff up and leave it out for her to get whenever she could.\\n\\nShe was in total disbelief that I was actually breaking up with her. She pleaded with me but my mind was/is made up and I wasn\\'t budging. It was hard not to cry in front of her though when she kept saying how much she wanted to be with me forever and that she had planned to be the mother of my children someday. \\n\\nI own my house and since Jenna hasn\\'t helped with expenses by paying any rent or utilities, I wasn\\'t too concerned about, putting it bluntly, kicking her out. She kept asking me what she was supposed to do and where was she supposed to sleep? I told her it wasn\\'t really my problem anymore and that she has plenty of friends she can stay with until she gets her own place. Basically all of the furniture and decor is mine, she just has clothes/toiletries/etc. to get out. All of the \"redecorating\" she did to my house was done on my dime. \\n\\nThen came the waterworks. She started crying and saying that she didn\\'t understand how I could do this to her. She said she thought I was a nice guy about a million times.\\n\\nI told her I am a nice guy, which is why I didn\\'t just throw her stuff on the front lawn, change the locks, and give her no explanation. \\n\\nThen, I swear to you, this woman dug the knife in even deeper. She said she didn\\'t know why she said those things to Dylan (she finally acknowledged it!) and that maybe it\\'s because Dylan brings out the best in her and she\\'s able to laugh about things that would normally make her cry. I guess like my penis? \\n\\nI told her that it\\'s really sad to me if what I heard was her at her best. It was petty and usually I\\'m above making snide comments, but I told her that she can go back to her hometown and go live with Dylan or her 9 inch dick ex boyfriend.\\n\\nIt was amazing to watch how fast those tears disappeared.\\n\\nApparently I am an asshole, I don\\'t know how to treat women, I\\'m a loser, my penis is tiny, I\\'m going to be alone forever, she never really loved me and I was more like a friend but she didn\\'t want to hurt me so she stayed with me (makes a lot of sense...?), she would have said no if I\\'d proposed, again, I am a loser and an asshole, and in case I didn\\'t get it the first time, she meant it when she said my penis was a baby carrot. Oh, and I will die alone.\\n\\nI told her dying alone is preferred to dying married to a woman who is cruel and doesn\\'t love or respect me.\\n\\nNo joke, she started to scream. Not words, just a long, extremely loud scream. It was alarming and then she just booked it out of there after calling me a disgusting pig.\\n\\nAfter paying the bill and apologizing to the waiter about the drama, I left and Jenna was just standing outside crying. I know what she did was horrible and all the things she said just a few minutes earlier were horrible, but... I still didn\\'t like seeing her like that and didn\\'t want to just leave her on the sidewalk. I\\'m in New England, it\\'s already pretty cold here. So I told her to let me give her a ride back to the house so she could get her stuff but that she needed to leave and go stay somewhere else as soon as she packed a bag.\\n\\nShe agreed and we didn\\'t talk at all in the car. Talk about an awkward ride. My brother and his wife were at the house when we got there. His wife stayed inside while Jenna got some stuff together and my brother waited outside with me.\\n\\nThat went by pretty uneventfully and she had a girlfriend come pick her up. I got my key back from her before she left. She texted me throughout the night and the texts ranged from sorry to sad to angry to really angry and back again. I didn\\'t answer any of them and only texted her yesterday morning to tell her that her stuff was on the porch and that she should come pick it up while I\\'m at work.\\n\\nI didn\\'t hear from her all day until it was almost time for me to go home. Pretty nasty text wishing me about every ill you can wish a person. I didn\\'t answer.\\n\\nWell, I came home to a disaster zone. She smashed everything. I don\\'t know if she had made a spare key at some point that I was unaware of or if she knows how to pick locks, but she got in to the house somehow and she destroyed it. She smashed stuff that\\'s irreplaceable, she ripped up the furniture, she clogged two sinks and left the water running, she left my refrigerator open and threw food all over the kitchen. It was wrecked. The only considerate thing she did was lock my two dogs up in a bedroom, I guess so they didn\\'t cut themselves on glass or eat the food.\\n\\nI have two vehicles, one for everyday use and then an SUV for work. I use the SUV for when I make house calls and may have to bring a large or exotic animal into the vehicle to transport it to the clinic. In the middle of all the drama, I\\'d forgotten I\\'d given her a key to the SUV in case she ever had an emergency and needed to drive somewhere. I went out to check the car and she trashed the inside of it, too. She dumped flour all over the inside in addition to tomato soup. \\n\\nThe stuff is just stuff, I suppose. It\\'s more the fact that she could do something so childish and awful on top of everything else. It blows my mind. Last weekend I took her to a play, went out with her and friends, we played Monopoly one night and made up our own drinking game with it, we hung out and watched Netflix, made love several times. And this weekend my house and vehicle are destroyed and so am I. Amazing how fast things change.\\n\\nNot my finest moment, but I was so pissed off that I got right on to Costco\\'s instant delivery and ordered 20 5lb bags of baby carrots and had them shipped to her friend\\'s place, addressed to Jenna. 100lbs of baby carrots. They deliver within an hour. I got a slew of interesting and insulting texts from her that evening. Yes, it was petty, but the only regret I have about it is that it was a waste of food. Hopefully she donates them or cooks some of them or something.\\n\\nSo, that\\'s that. I blocked her last night after the nasty texts from her just kept coming. I\\'m feeling pretty beaten down right now and I\\'ve cried more than I have in a long time. It\\'s obvious that I made the right choice; Jenna is clearly not emotionally stable or mature. She really is cruel and I know I do deserve better.\\n\\nI have spent a lot of time since Monday thinking about myself as a partner and trying to figure out what could have led to her obviously having some resentment or something for me. I\\'m going to be 100% honest here. I work *a lot*. I try to still make time for the people I love and I try not to bring work home with me when I\\'ve had a bad day. But sometimes I do, I know this. Jenna and I have fought about it before and I have really tried to pace my days a certain way so that I can get home at a reasonable time and I\\'ve tried to leave bad days at work as much as I can. \\n\\nHowever, anyone who is a vet or has worked with one knows we\\'re always on call for emergencies. Sometimes we have patients that we have to check on or stay with throughout the night. Time off can be challenging. It\\'s doable, but it\\'s challenging. My staff is incredible and can handle most situations, but I do still get a lot of calls or texts from them when I\\'m on vacation or off for the day.\\n\\nI\\'m sure there have been times when Jenna felt second best to my job. Well, I guess I know there have been, she\\'s told me as much in the past. I did try to make changes but there\\'s only so much I can do. As far as I can remember, I\\'ve never been purposely mean to Jenna. I\\'ve had bad days and been grumpy or absent, we\\'ve had our share of disagreements and fights but nothing unhealthy or excessive. I really thought we had a solid relationship and that we were *both* happy. I know I was.\\n\\nIt\\'s hard to not question myself and wonder if I really am a let down or if I neglected her to the point that she felt unloved enough to act the way she did. I don\\'t know, but I do know that no matter what, the way she put me down and the way she reacted to breaking up was way, way out of line. I didn\\'t deserve that and that\\'s on her.\\n\\nSo thank you for rooting for me, Reddit. It\\'s been great to read all the nice words and advice. Time for me and my baby carrot to eventually find a woman who appreciates us for what we are.\\n\\n**tl;dr:** I broke up with Jenna Thursday night. Did not go well. She got nasty and ended up destroying my house, car, and me. But I did it, it\\'s over, and I\\'ve blocked her from my phone/social media. I also sent her 100lbs of baby carrots in a moment of angry weakness.\\n\\nEdit: I did file a police report and took pictures, which will hopefully help with recouping some of the money lost through insurance. As far as the police report, it\\'s very doubtful anything will come of it since I can\\'t prove it was her. Same goes for trying to sue her in small claims court. And honestly, I\\'d rather not deal with her anymore. I\\'m going to hope that insurance will cover the damages and just move on with my life.'"
      ]
     },
     "execution_count": 62,
     "metadata": {},
     "output_type": "execute_result"
    }
   ],
   "source": [
    "top_5_rows.iloc[1]['selftext']"
   ]
  },
  {
   "cell_type": "markdown",
   "metadata": {},
   "source": [
    "The first post is  a personal story of emotional betrayal: a veterinarian who discovered his girlfriend's belittling remarks about him to a male friend. The first tone is very conversational, part funny and part vulnerable. But it gets sharply focused on the emotional impact of this kind of revelation, with depictions of devastation and confusion.\n",
    "\n",
    "The next post, witch is also just the update to the first post  tells the story of what happened since then. He explains the stormy breakup, their confrontation, and the subsequent fallout—property damage. Anger, disbelief, and flickers of empathy shift through the emotional landscape. It's a direct narrative, descriptive, telling starkly of the situation.\n",
    "\n",
    "These posts clarify the dynamics of online confessional spaces. The raw emotion and amount of detail invested in the telling of the story bind the reader into a sense of empathy, creating engagement. That beeing said, this vulnerability of the author comes to be very instrumental in attracting users and eliciting responses. More importantly, the detailed narrative provides rich context for understanding the complexities of interpersonal relationships portrayed in r/relationship_advice. \n"
   ]
  },
  {
   "cell_type": "markdown",
   "metadata": {},
   "source": [
    "### 2) Zoom-in Sampling\n",
    "\n",
    "• **High-Impact Comments**: Analyzing comments that significantly influence the discussion or advice on a post. Seeing what comments are the most popular. \n",
    "\n",
    "• **Contextual Interpretation**: Examining the societal and cultural norms reflected in these posts, particularly concerning gender roles and relationship dynamics. Most comments are really emotionally charged, and a large amount of them call for a breakup or divorce. \n",
    "\n",
    "• **Moderation rules**: Analysing how these rules influence the topics people are allowed to post, the influence of their norms and biases, insight into how they see the world\n",
    " \n",
    "\n"
   ]
  },
  {
   "cell_type": "markdown",
   "metadata": {},
   "source": [
    "To get a better understanding of how conflict is resolved/ what type of advice is given, let's take a look at our comments data frame and the comments with the highest scores:\n",
    "\n"
   ]
  },
  {
   "cell_type": "code",
   "execution_count": 80,
   "metadata": {},
   "outputs": [
    {
     "data": {
      "text/html": [
       "<div>\n",
       "<style scoped>\n",
       "    .dataframe tbody tr th:only-of-type {\n",
       "        vertical-align: middle;\n",
       "    }\n",
       "\n",
       "    .dataframe tbody tr th {\n",
       "        vertical-align: top;\n",
       "    }\n",
       "\n",
       "    .dataframe thead th {\n",
       "        text-align: right;\n",
       "    }\n",
       "</style>\n",
       "<table border=\"1\" class=\"dataframe\">\n",
       "  <thead>\n",
       "    <tr style=\"text-align: right;\">\n",
       "      <th></th>\n",
       "      <th>idint</th>\n",
       "      <th>idstr</th>\n",
       "      <th>created</th>\n",
       "      <th>author</th>\n",
       "      <th>parent</th>\n",
       "      <th>submission</th>\n",
       "      <th>body</th>\n",
       "      <th>score</th>\n",
       "      <th>subreddit</th>\n",
       "      <th>distinguish</th>\n",
       "      <th>textlen</th>\n",
       "    </tr>\n",
       "  </thead>\n",
       "  <tbody>\n",
       "    <tr>\n",
       "      <th>1563341</th>\n",
       "      <td>27779110109</td>\n",
       "      <td>t1_creyqjh</td>\n",
       "      <td>1432102219</td>\n",
       "      <td>whenifeellikeit</td>\n",
       "      <td>t3_36l7r9</td>\n",
       "      <td>t3_36l7r9</td>\n",
       "      <td>What a horribly, paralyzingly awful moment you...</td>\n",
       "      <td>2237.0</td>\n",
       "      <td>relationship_advice</td>\n",
       "      <td>NaN</td>\n",
       "      <td>3626.0</td>\n",
       "    </tr>\n",
       "    <tr>\n",
       "      <th>381823</th>\n",
       "      <td>26462583780</td>\n",
       "      <td>t1_c5n50bo</td>\n",
       "      <td>1343925047</td>\n",
       "      <td>liah</td>\n",
       "      <td>t1_c5n1p0u</td>\n",
       "      <td>t3_xjxnb</td>\n",
       "      <td>&gt; they all want an asshole on some level (agai...</td>\n",
       "      <td>1870.0</td>\n",
       "      <td>relationship_advice</td>\n",
       "      <td>NaN</td>\n",
       "      <td>3613.0</td>\n",
       "    </tr>\n",
       "    <tr>\n",
       "      <th>387420</th>\n",
       "      <td>26465762570</td>\n",
       "      <td>t1_c5p153e</td>\n",
       "      <td>1344273932</td>\n",
       "      <td>Teephphah</td>\n",
       "      <td>t1_c5ozcgw</td>\n",
       "      <td>t3_xribn</td>\n",
       "      <td>Man here, so this is speculative, but I HAVE b...</td>\n",
       "      <td>1782.0</td>\n",
       "      <td>relationship_advice</td>\n",
       "      <td>NaN</td>\n",
       "      <td>2491.0</td>\n",
       "    </tr>\n",
       "    <tr>\n",
       "      <th>366241</th>\n",
       "      <td>26447087610</td>\n",
       "      <td>t1_c5dwvei</td>\n",
       "      <td>1342270847</td>\n",
       "      <td>GertrudeBeerstein</td>\n",
       "      <td>t3_wjl8y</td>\n",
       "      <td>t3_wjl8y</td>\n",
       "      <td>You're 6 years in and married. So a few days o...</td>\n",
       "      <td>1678.0</td>\n",
       "      <td>relationship_advice</td>\n",
       "      <td>NaN</td>\n",
       "      <td>2055.0</td>\n",
       "    </tr>\n",
       "    <tr>\n",
       "      <th>265081</th>\n",
       "      <td>26353244443</td>\n",
       "      <td>t1_c3u1hjv</td>\n",
       "      <td>1329967576</td>\n",
       "      <td>ekimmitt</td>\n",
       "      <td>t3_q1c9u</td>\n",
       "      <td>t3_q1c9u</td>\n",
       "      <td>She loves you. Don't worry about it because no...</td>\n",
       "      <td>1522.0</td>\n",
       "      <td>relationship_advice</td>\n",
       "      <td>NaN</td>\n",
       "      <td>258.0</td>\n",
       "    </tr>\n",
       "  </tbody>\n",
       "</table>\n",
       "</div>"
      ],
      "text/plain": [
       "               idint       idstr     created             author      parent  \\\n",
       "1563341  27779110109  t1_creyqjh  1432102219    whenifeellikeit   t3_36l7r9   \n",
       "381823   26462583780  t1_c5n50bo  1343925047               liah  t1_c5n1p0u   \n",
       "387420   26465762570  t1_c5p153e  1344273932          Teephphah  t1_c5ozcgw   \n",
       "366241   26447087610  t1_c5dwvei  1342270847  GertrudeBeerstein    t3_wjl8y   \n",
       "265081   26353244443  t1_c3u1hjv  1329967576           ekimmitt    t3_q1c9u   \n",
       "\n",
       "        submission                                               body   score  \\\n",
       "1563341  t3_36l7r9  What a horribly, paralyzingly awful moment you...  2237.0   \n",
       "381823    t3_xjxnb  > they all want an asshole on some level (agai...  1870.0   \n",
       "387420    t3_xribn  Man here, so this is speculative, but I HAVE b...  1782.0   \n",
       "366241    t3_wjl8y  You're 6 years in and married. So a few days o...  1678.0   \n",
       "265081    t3_q1c9u  She loves you. Don't worry about it because no...  1522.0   \n",
       "\n",
       "                   subreddit distinguish  textlen  \n",
       "1563341  relationship_advice         NaN   3626.0  \n",
       "381823   relationship_advice         NaN   3613.0  \n",
       "387420   relationship_advice         NaN   2491.0  \n",
       "366241   relationship_advice         NaN   2055.0  \n",
       "265081   relationship_advice         NaN    258.0  "
      ]
     },
     "execution_count": 80,
     "metadata": {},
     "output_type": "execute_result"
    }
   ],
   "source": [
    "cm.nlargest(5, 'score') "
   ]
  },
  {
   "cell_type": "code",
   "execution_count": 95,
   "metadata": {},
   "outputs": [
    {
     "data": {
      "text/plain": [
       "'Fighting is never good. A successful relationship is built around compromises and effective dialogue. Just because you say \"I love you, you love me, things are okay\" doesnt exactly mean it\\'s true. You really ought to sit down with him when you can and talk about why you\\'re fighting. \\n\\nYou need to be honest with each other and tell each person what it is about what they are doing upsets you and how it makes you feel. But, you also have to understand that this is loving criticism. From this criticism, you can then pledge to do things better (being very specific about what you\\'re going to do). Wanting to be with someone you love means you are willing to become a better person from being with them. You don\\'t really see your flaws until someone else tells them to you, but most of the time it\\'s done out of spite. This needs to be done out of love. \\n\\nThis talk cannot get out of hand and it\\'s EXTREMELY difficult to stop it from getting out of hand. If it does, it could mean the end of your relationship. \\n\\nIf you\\'re interested in talking about it more, please feel free to message me.'"
      ]
     },
     "execution_count": 95,
     "metadata": {},
     "output_type": "execute_result"
    }
   ],
   "source": [
    "cm.iloc[5]['body']"
   ]
  },
  {
   "cell_type": "markdown",
   "metadata": {},
   "source": [
    "Going through a few comments with the code above, we can see that the a majority of the comments can be considered to be of neutral judgment, this aligns with one of the subreddit rules that reads as follows: *“No questions that can be answered with yes or no (aka moral judgment)\n",
    "Your post is a yes or no question (aka moral judgment) if your question starts with or contains any of the following: Is it...? Asking if you or the subject of the post is right or wrong. Am I....? Any variation of “Am I The Asshole?”, including AITA Does/Have anybody else...? Should I…? Would you....? Is this.....? Can I...?”*  (“Relationship Advice” Reddit) \n",
    "\n",
    "Instead of a simple judgment, such as \"right\" or \"wrong,\" this subreddit hosts highly complex situations that enable a person to empathize and understand. The emphasis on emotional experiences  ties  in with the subreddit idea of giving moral support to a community of users who can share their problems and ask for advice.\n",
    "\n",
    "By encouraging users to elaborate on their stories, this subreddit creates a platform for people to advise and learn from one another. This, in a way, makes the ban against moralistic questions evoke a culture where users can discuss issues freely, and provide different insights. This, therefore, contributes to richer understandings which have a deeper meaning on the dynamics of relationships.\n",
    "\n",
    "\n",
    "\n",
    "\n"
   ]
  },
  {
   "cell_type": "markdown",
   "metadata": {},
   "source": [
    "\n",
    "\n",
    "<img src=\"img/pyLDAvistopic3 .png\" width=\"700\" />\n",
    "Figure 2. LDA Topic Model: Topic 4, relevance metric 0.0\n",
    "\n",
    "\n"
   ]
  },
  {
   "cell_type": "markdown",
   "metadata": {},
   "source": [
    "/"
   ]
  },
  {
   "cell_type": "markdown",
   "metadata": {},
   "source": [
    "\n",
    "\n",
    "<img src=\"img/pyLDAvistopic4.png\" width=\"700\" />\n",
    "Figure 3. LDA Topic Model: Topic 3, relevance metric 0.0"
   ]
  },
  {
   "cell_type": "markdown",
   "metadata": {},
   "source": [
    "\n",
    "\n",
    "<img src=\"img/example_post.png\" width=\"700\" />\n",
    "Figure 4. Example r/relationship_advice post "
   ]
  },
  {
   "cell_type": "code",
   "execution_count": 135,
   "metadata": {},
   "outputs": [
    {
     "data": {
      "text/plain": [
       "\"This is an update of [this post](https://www.reddit.com/r/relationship_advice/comments/609equ/my_22m_girlfriend_20f_is_on_tinder_and_refuses_to/).\\n \\n\\nThe conversation went like this:\\n\\nDo you still have Tinder installed on your smartphone?\\n\\n- Yes, but I don't use it very often and only to chat with a few people.\\n\\nCan you, for example, add those people on Facebook and remove Tinder after that?\\n\\n- Why?\\n\\nBecause I think you know I don't quite like the idea of you being on Tinder. If you would do what I just said I would prefer that.\\n\\n- I just get to know new people and that's it. Moreover I'm barely using it.\\n\\n \\n\\nEdit: Right after this I broke up with her.\""
      ]
     },
     "execution_count": 135,
     "metadata": {},
     "output_type": "execute_result"
    }
   ],
   "source": [
    "df.loc[df['dom_topic'] == 'Dating and Social Interactions']['selftext'][10]"
   ]
  },
  {
   "cell_type": "markdown",
   "metadata": {},
   "source": [
    "\n",
    "\n",
    "As stated by Roland Barthes, mythology is a medium of communication through which norms, ideologies, and cultural values of society are communicated by diverse forms of speech. In the context of the community r/relationship_advice on Reddit, mythology plays an important role in setting and reflecting the collective understanding in regard to relationships, advice, and social expectations within the community.\n",
    "Posts and comments in the r/relationship_advice subreddit often mask myths that pertain to romantic relationships, gender roles, and social expectations. For instance, the topics of infidelity, trust issues, boundaries, and communication problems in relationships do not stand alone as problems but rather are highly conditioned by myths coming from society about loyalty, truthfulness, and the ideal partnership. The advice that community members tend to give generally aligns with dominant cultural narratives, strengthening these myths. Signifiers, or specific words and phrases, gain new meanings within the context of relationship advice.\n",
    "\n",
    "The above screenshots of a pyLDAvis topic model allow us to further examine this, allowing insights into different themes within the posts. For example, qualitatively topic number 3 \"Work and Daily Life” has exclusive vocabulary such as “dish”, “cleaning”, “laundry”,  “rent” and “breadwinner”. We notice that these words all reference traditional genre roles in relationships and in the context of r/relationship_advice create myths surrounding those. Because in this subreddit, all these words all the catalysts for some form of conflict in a relationship therefore the signification of the words changes. \n",
    "\n",
    "The same thing can be observed for number 4  \"Dating and Social interaction” which has exclusive vocabulary such as “photo”, “profile” and “Tinder”. In the context of the community the signification of “Tinder” changes to a conflict instigator and infidelity indicator. As a community, dating websites are not seen as something your partner should be on when they are in a relationship with you. This can be seen in an attached post below.  \n",
    "\n",
    "Another relevant post could be one in which a user is seeking advice about how to deal with a boyfriend that is mad because his girlfriend “did a man’s job”. As expected, the responses are steeped in cultural myths about communication and the other comments express that the girlfriend needs to leave the relationship. These responses construct a mythology that informs the community's understanding of relationships and guides individual behavior.\n",
    "\n",
    "In other words, mythology in r/relationship_advice is a means of expression and reinforcement for social values and norms in relationships. Through prevalent themes and patterns of advice, we can understand the kind of cultural ideology that forms the background for the shared knowledge of the community.\n",
    "\n"
   ]
  },
  {
   "cell_type": "markdown",
   "metadata": {},
   "source": [
    "### 3) Bias Detection\n",
    "\n",
    "  •**Word Embeddings**: Applying models like Word2Vec to capture semantic relationships and identify biases in word usage.\n",
    "  \n",
    "  •**Gender Bias Analysis**: Using predefined and custom target sets to detect gender biases in language.\n",
    "  "
   ]
  },
  {
   "cell_type": "code",
   "execution_count": 102,
   "metadata": {},
   "outputs": [],
   "source": [
    "model = Word2Vec.load('../../data/embeddings.emb')"
   ]
  },
  {
   "cell_type": "code",
   "execution_count": 110,
   "metadata": {},
   "outputs": [],
   "source": [
    "tsne_path = '../../data/tsne_model'\n",
    "tsne_df_path = '../../data/tsne_df.pkl'\n",
    "\n",
    "with open(tsne_path, 'rb') as f:\n",
    "    X_tsne = pickle.load(f)\n",
    "    \n",
    "tsne_df = pd.read_pickle(tsne_df_path)"
   ]
  },
  {
   "cell_type": "code",
   "execution_count": 112,
   "metadata": {},
   "outputs": [],
   "source": [
    "import bokeh\n",
    "from bokeh.plotting import figure, show, output_notebook\n",
    "from bokeh.models import HoverTool, ColumnDataSource, LabelSet\n"
   ]
  },
  {
   "cell_type": "code",
   "execution_count": 114,
   "metadata": {},
   "outputs": [
    {
     "name": "stderr",
     "output_type": "stream",
     "text": [
      "BokehDeprecationWarning: 'circle() method with size value' was deprecated in Bokeh 3.4.0 and will be removed, use 'scatter(size=...) instead' instead.\n"
     ]
    }
   ],
   "source": [
    "\n",
    "\n",
    "plot_data = ColumnDataSource(tsne_df)\n",
    "\n",
    "# Create the plot and configure the title, dimensions, and tools\n",
    "tsne_plot = figure(title='t-SNE Word Embeddings')\n",
    "\n",
    "# Add a hover tool to display words on roll-over\n",
    "tsne_plot.add_tools(HoverTool(tooltips='@index') )\n",
    "\n",
    "# Draw the words as circles on the plot\n",
    "tsne_plot.circle('x', 'y',\n",
    "                 source=plot_data,\n",
    "                 color='blue',\n",
    "                 line_alpha=0.2,\n",
    "                 fill_alpha=0.1,\n",
    "                 size=10,\n",
    "                 hover_line_color='black')\n",
    "\n",
    "# plot shown in another tab\n",
    "show(tsne_plot)"
   ]
  },
  {
   "cell_type": "markdown",
   "metadata": {},
   "source": [
    "With t-Distributed Stochastic Neighbor Embedding (t-SNE) Clusters indicating levels of semantic similarity among words. The t-SNE graph reveals numerous clusters of words that align with the most popular words in our topic modeling. In Addition to that,, we can also see emotional vocabulary implemented within the graph with different topics associated with/close to emotions. A notable example is “sad” next to “ex” or “happy” next \"family”.  \n"
   ]
  },
  {
   "cell_type": "code",
   "execution_count": 116,
   "metadata": {},
   "outputs": [
    {
     "name": "stderr",
     "output_type": "stream",
     "text": [
      "[nltk_data] Downloading package averaged_perceptron_tagger to\n",
      "[nltk_data]     /Users/kenzaachki/nltk_data...\n",
      "[nltk_data]   Package averaged_perceptron_tagger is already up-to-\n",
      "[nltk_data]       date!\n",
      "[nltk_data] Downloading package vader_lexicon to\n",
      "[nltk_data]     /Users/kenzaachki/nltk_data...\n",
      "[nltk_data]   Package vader_lexicon is already up-to-date!\n"
     ]
    }
   ],
   "source": [
    "from utils import calculate_biased_words"
   ]
  },
  {
   "cell_type": "code",
   "execution_count": 118,
   "metadata": {},
   "outputs": [
    {
     "name": "stdout",
     "output_type": "stream",
     "text": [
      "Biased words towards Women\n",
      "['people', 'person', 'open', 'super', 'meeting', 'dates', 'sexy', 'shy', 'tinder', 'strangers', 'exes']\n",
      "Biased words towards Men\n",
      "['loves', 'pay', 'year_old', 'kid', 'pain', 'background', 'f', 'watch', 'abuse', 'growing', 'biggest', 'poor', 'death', 'income', 'responsibility', 'born', 'sake', 'raise', 'custody', 'suffer', 'household', 'foot', 'raising']\n"
     ]
    }
   ],
   "source": [
    "Women = ['sister', 'female', 'woman', 'girl', 'daughter', 'she', 'hers', 'her']\n",
    "Men = ['brother', 'male', 'man', 'boy', 'son', 'he', 'his', 'him'] \n",
    "[b1, b2] = calculate_biased_words(model, Women, Men, 4)\n",
    "\n",
    "print('Biased words towards Women')\n",
    "print([word for word in b1.keys()])\n",
    "\n",
    "print('Biased words towards Men')\n",
    "print([word for word in b2.keys()] )\n"
   ]
  },
  {
   "cell_type": "markdown",
   "metadata": {},
   "source": [
    "For the female target set, words relating to social interactions, personal characteristics, and dating contexts, reflect a stereotype that emphasizes social and relational aspects of women's lives.\n",
    "\n",
    "In contrast, the male target set showed different biased words, commonly associated with responsibilities, financials, and familial roles, indicating a stereotype that focuses on men's societal roles and hardships\n",
    "\n",
    "There is also another  moderation rule that reflects a great deal about how the community thinks: *“No referencing hateful subreddits and/or their rhetoric. Examples include, but is not limited to: red/blue/black/purplepill, PUA, FDS, MGTOW, etc. This includes, but is not limited to, referring to people as alpha/beta, calling yourself or users \"friend-zoned\", referring to people as Chads, Tyrones, or Staceys, pick-me's, or pornsick. Any infractions of this rule will result in a ban. This is not an all-inclusive list.”* (“Relationship Advice” Reddit)\n",
    "\n",
    "\n",
    "These findings provide a compelling snapshot of how gender is constructed and  reinforced in the digital world of relationship advice. This strong contrast existing between the male and female target sets word clouds is indicative of deeply ingrained societal stereotypes. The also  data shows how the platform reinforces these conventional gender roles, where women are primarily associated with emotional labor, sociality, and personal relationships, while men are associated with financial responsibility, career, and family provision. These stereotypes do not just describe real life; they also appear to form it. A focus as strong as this placed on certain gendered expectations may raise interpersonal conflicts. When individuals are expected to conform to these stereotypes, deviations can lead to misunderstandings, resentment, and strained relationships.\n",
    "\n",
    "Furthermore, the digital environment in which the subreddit resides can further amplify those biases. Online platforms like Reddit can lead to creating echo chambers in which one is simply exposed to viewpoints that align with one's own views. In such a way, its language reflects and reinforces broader cultural narratives about gender conducted within r/relationship_advice. The way media shapes perceptions has to be understood better in order to know exactly how to challenge these stereotypes and provide more equitable online interactions.\n",
    "On the contribution of moderation to discourse, the moderation rules of this subreddit act as an inside look into how the community identifies itself and an intention to control discourses. The banning of terms used within pick-up artistry, red pill ideology, and other misogynistic subcultures shows the thoughtfulness of not perpetuating stereotypes and harmful behavior. The moderation of this subreddit creates these rules to make an environment more inclusive and respectful to people coming for advice on their relationships. However, it's important to consider if  these rules effectively address the underlying issues or simply displace problematic language without challenging  root causes.\n",
    "\n",
    "\n",
    "\n"
   ]
  },
  {
   "cell_type": "markdown",
   "metadata": {},
   "source": [
    "### 4) Errors along the way"
   ]
  },
  {
   "cell_type": "code",
   "execution_count": 153,
   "metadata": {},
   "outputs": [
    {
     "name": "stdout",
     "output_type": "stream",
     "text": [
      "Update: I [28f] literally just found email after email from my fiancé [27m] to his ex girlfriend [20s/f] belittling and making fun of me and worse. Seriously shocked beyond belief right now.\n"
     ]
    }
   ],
   "source": [
    "t1 = df['title'][2]\n",
    "print(t1)\n"
   ]
  },
  {
   "cell_type": "code",
   "execution_count": 155,
   "metadata": {},
   "outputs": [
    {
     "name": "stdout",
     "output_type": "stream",
     "text": [
      "female\n"
     ]
    }
   ],
   "source": [
    "def predict_gender_from_title(title):\n",
    "  \"\"\"How it works: Predicts gender based on the first occurrence of 'M' or 'F' in the title.\n",
    "\n",
    "  Args:\n",
    "    title: The title of the post.\n",
    "\n",
    "  Returns:\n",
    "    'male' if 'M' appears before 'F', 'female' if 'F' appears before 'M',\n",
    "    'unknown' otherwise.\n",
    "  \"\"\"\n",
    "\n",
    "  if 'm' in title and 'f' in title:\n",
    "    return 'male' if title.index('m') < title.index('f') else 'female'\n",
    "  elif 'm' in title:\n",
    "    return 'male'\n",
    "  elif 'f' in title:\n",
    "    return 'female'\n",
    "  else:\n",
    "    return 'unknown'\n",
    "\n",
    "print(predict_gender_from_title(t1)) "
   ]
  },
  {
   "cell_type": "markdown",
   "metadata": {},
   "source": [
    "Before concluding, it is essential to acknowledge the limitations encountered during this study. One  significant challenge I encountered was trying to implementation the random sampling methodology to ensure representative data, I ultimately decided to leave out. In addition, trying to laber authors by gender based on the post title like for example, \" I 24M\" for male—I couldn't find the optimal way to run it on the whole dataset. However, the other findings, in spite of these constraints, do give useful insights into the complexities of r/relationship_advice. \n"
   ]
  },
  {
   "cell_type": "markdown",
   "metadata": {},
   "source": [
    "## Conclusions\n",
    "\n",
    "\n",
    "\n",
    "The analysis of r/relationship_advice points to a complex world between personal stories, societal norms, and gender biases in the digital setup of relationship advice. The subreddit functions almost like a microcosm of broader issues in society, with particular views on challenges related to sex, intimacy, and life-work balance. Sentiment analysis reflects a rather more neutral emotional envirment, hilighting a need for understanding and support over judgment. Moreover, conventional gender roles are furthered in the discourses of the subreddit, where women are normally associated with emotional labor and men with financial responsibility. The efforts of the community to regulate some of the bad content through moderation are notable; however, this does not really tackle the underlying issues associated with gender inequality.\n",
    "\n",
    "\n",
    "To deepen our understanding of these dynamics, comparative analyses of other online forums about relationships may point to similarities and differences in gendered discourses. Temporal analysis  in the case of r/relationship_advice would outline how language and topics have changed through time. Finally, Investigating the intersectionality among gender, race, class, and sexual orientation would add much more depth to experiences  within the subreddit.\n",
    "\n",
    "\n",
    "\n",
    "\n",
    "\n",
    "\n"
   ]
  },
  {
   "cell_type": "markdown",
   "metadata": {},
   "source": [
    "## References\n",
    "Adiaturb. “Text Sentiment Analysis — End-to-End Machine Learning Project with Python.” Medium, 11 June 2023, \n",
    "https://medium.com/@adiaturb/text-sentiment-analysis-end-to-end-machine-learning-project-with-python-9644f4362ca2. Accessed 15 August 2024.\n",
    "\n",
    "\n",
    "Barthes, Roland. Mythologies. Edited by Annette Lavers, translated by Annette Lavers, Vintage, 1993.\n",
    "\n",
    "\n",
    "“Relationship Advice.” Reddit, https://www.reddit.com/r/relationship_advice. Accessed 15 August 2024.\n",
    "\n",
    "\n"
   ]
  },
  {
   "cell_type": "code",
   "execution_count": 188,
   "metadata": {},
   "outputs": [
    {
     "name": "stdout",
     "output_type": "stream",
     "text": [
      "2982\n"
     ]
    }
   ],
   "source": [
    "# This code cell will give you a word count, in case you need it. \n",
    "# Note that this opens the file you are currently in, so make sure to save it first to get an accurate word count.\n",
    "\n",
    "with open('DIGHUM160_essay_kachki.ipynb',encoding='utf-8') as json_file:\n",
    "    data = json.load(json_file)\n",
    "\n",
    "wordCount = 0\n",
    "for each in data['cells']:\n",
    "    cellType = each['cell_type']\n",
    "    if cellType == \"markdown\":\n",
    "        content = each['source']\n",
    "        for line in content:\n",
    "            # you might want to filter for more markdown keywords here\n",
    "            temp = [word for word in line.split() if \"#\" not in word] \n",
    "            wordCount = wordCount + len(temp)\n",
    "            \n",
    "print(wordCount)"
   ]
  }
 ],
 "metadata": {
  "kernelspec": {
   "display_name": "Python 3",
   "language": "python",
   "name": "python3"
  },
  "language_info": {
   "codemirror_mode": {
    "name": "ipython",
    "version": 3
   },
   "file_extension": ".py",
   "mimetype": "text/x-python",
   "name": "python",
   "nbconvert_exporter": "python",
   "pygments_lexer": "ipython3",
   "version": "3.13.0"
  }
 },
 "nbformat": 4,
 "nbformat_minor": 4
}
